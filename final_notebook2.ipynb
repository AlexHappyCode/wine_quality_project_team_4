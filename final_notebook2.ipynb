{
 "cells": [
  {
   "cell_type": "markdown",
   "id": "25b01deb-2015-4275-95ec-2ca139177989",
   "metadata": {
    "tags": []
   },
   "source": [
    "# Importing libraries"
   ]
  },
  {
   "cell_type": "code",
   "execution_count": 1,
   "id": "ae186853-0ed3-49c0-9037-442bc541a2be",
   "metadata": {},
   "outputs": [],
   "source": [
    "import pandas as pd\n",
    "import numpy as np\n",
    "import seaborn as sb\n",
    "from sklearn.decomposition import PCA"
   ]
  },
  {
   "cell_type": "code",
   "execution_count": 2,
   "id": "4c105cf3-18af-4f90-9a74-a7f8202aa7f1",
   "metadata": {
    "tags": []
   },
   "outputs": [],
   "source": [
    "import os\n",
    "import warnings\n",
    "from IPython import display\n",
    "import yfinance as yf\n",
    "import datetime as dt\n",
    "import pandas as pd\n",
    "import numpy as np\n",
    "from numpy import arange\n",
    "import matplotlib.pyplot as plt\n",
    "from pandas import read_csv\n",
    "from sklearn import metrics\n",
    "from sklearn.model_selection import train_test_split\n",
    "from sklearn.ensemble import RandomForestClassifier\n",
    "from sklearn.preprocessing import StandardScaler\n",
    "from sklearn.model_selection import GridSearchCV\n",
    "from sklearn.metrics import accuracy_score\n",
    "from sklearn.metrics import confusion_matrix, plot_confusion_matrix\n",
    "from sklearn.metrics import ConfusionMatrixDisplay\n",
    "from sklearn.metrics import r2_score\n",
    "from sklearn.inspection import permutation_importance\n",
    "from sklearn.metrics import RocCurveDisplay\n",
    "from sklearn.metrics import roc_curve\n",
    "from sklearn.metrics import auc"
   ]
  },
  {
   "cell_type": "markdown",
   "id": "4202b58f-72c0-4547-81a7-2dd033b379bb",
   "metadata": {},
   "source": [
    "# Loading data"
   ]
  },
  {
   "cell_type": "code",
   "execution_count": 3,
   "id": "ed22f631-a6a3-4d14-bb0b-720fc46cdf16",
   "metadata": {},
   "outputs": [],
   "source": [
    "data_red_wine = pd.read_csv('https://raw.githubusercontent.com/AlexHappyCode/wine_quality_project_team_4/main/wine_quality_dataset/winequality-red.csv', sep=';')\n",
    "data_white_wine = pd.read_csv('https://raw.githubusercontent.com/AlexHappyCode/wine_quality_project_team_4/main/wine_quality_dataset/winequality-white.csv', sep=';')\n",
    "both_frames = [data_red_wine, data_white_wine]"
   ]
  },
  {
   "cell_type": "code",
   "execution_count": 4,
   "id": "5c2ad08f-1821-46e6-ab04-d5010dac746e",
   "metadata": {},
   "outputs": [],
   "source": [
    "data_red_and_white = pd.concat(both_frames, ignore_index=True)"
   ]
  },
  {
   "cell_type": "code",
   "execution_count": 5,
   "id": "926411d0-2651-455a-8ebe-babc4bdbceae",
   "metadata": {},
   "outputs": [
    {
     "data": {
      "text/plain": [
       "6    2836\n",
       "5    2138\n",
       "7    1079\n",
       "4     216\n",
       "8     193\n",
       "3      30\n",
       "9       5\n",
       "Name: quality, dtype: int64"
      ]
     },
     "execution_count": 5,
     "metadata": {},
     "output_type": "execute_result"
    }
   ],
   "source": [
    "data_red_and_white['label'] = np.nan\n",
    "data_red_and_white['quality'].value_counts()"
   ]
  },
  {
   "cell_type": "markdown",
   "id": "84c09ec5-8712-4ddb-bf92-71230d49e717",
   "metadata": {},
   "source": [
    "# Binning the qualities\n",
    "The 'quality' feature in this dataframe is numerical value but we need to make a categorical variable out of it.\n",
    "\n",
    "Hence, we bin 1-3 as poor, 4-6 as good and 7-9 as excellent"
   ]
  },
  {
   "cell_type": "code",
   "execution_count": 6,
   "id": "f19cf4c9-f2f9-4657-a5c8-4674ca2ccb46",
   "metadata": {},
   "outputs": [
    {
     "data": {
      "text/html": [
       "<div>\n",
       "<style scoped>\n",
       "    .dataframe tbody tr th:only-of-type {\n",
       "        vertical-align: middle;\n",
       "    }\n",
       "\n",
       "    .dataframe tbody tr th {\n",
       "        vertical-align: top;\n",
       "    }\n",
       "\n",
       "    .dataframe thead th {\n",
       "        text-align: right;\n",
       "    }\n",
       "</style>\n",
       "<table border=\"1\" class=\"dataframe\">\n",
       "  <thead>\n",
       "    <tr style=\"text-align: right;\">\n",
       "      <th></th>\n",
       "      <th>fixed acidity</th>\n",
       "      <th>volatile acidity</th>\n",
       "      <th>citric acid</th>\n",
       "      <th>residual sugar</th>\n",
       "      <th>chlorides</th>\n",
       "      <th>free sulfur dioxide</th>\n",
       "      <th>total sulfur dioxide</th>\n",
       "      <th>density</th>\n",
       "      <th>pH</th>\n",
       "      <th>sulphates</th>\n",
       "      <th>alcohol</th>\n",
       "      <th>quality</th>\n",
       "      <th>label</th>\n",
       "    </tr>\n",
       "  </thead>\n",
       "  <tbody>\n",
       "    <tr>\n",
       "      <th>0</th>\n",
       "      <td>7.4</td>\n",
       "      <td>0.70</td>\n",
       "      <td>0.00</td>\n",
       "      <td>1.9</td>\n",
       "      <td>0.076</td>\n",
       "      <td>11.0</td>\n",
       "      <td>34.0</td>\n",
       "      <td>0.99780</td>\n",
       "      <td>3.51</td>\n",
       "      <td>0.56</td>\n",
       "      <td>9.4</td>\n",
       "      <td>5</td>\n",
       "      <td>NaN</td>\n",
       "    </tr>\n",
       "    <tr>\n",
       "      <th>1</th>\n",
       "      <td>7.8</td>\n",
       "      <td>0.88</td>\n",
       "      <td>0.00</td>\n",
       "      <td>2.6</td>\n",
       "      <td>0.098</td>\n",
       "      <td>25.0</td>\n",
       "      <td>67.0</td>\n",
       "      <td>0.99680</td>\n",
       "      <td>3.20</td>\n",
       "      <td>0.68</td>\n",
       "      <td>9.8</td>\n",
       "      <td>5</td>\n",
       "      <td>NaN</td>\n",
       "    </tr>\n",
       "    <tr>\n",
       "      <th>2</th>\n",
       "      <td>7.8</td>\n",
       "      <td>0.76</td>\n",
       "      <td>0.04</td>\n",
       "      <td>2.3</td>\n",
       "      <td>0.092</td>\n",
       "      <td>15.0</td>\n",
       "      <td>54.0</td>\n",
       "      <td>0.99700</td>\n",
       "      <td>3.26</td>\n",
       "      <td>0.65</td>\n",
       "      <td>9.8</td>\n",
       "      <td>5</td>\n",
       "      <td>NaN</td>\n",
       "    </tr>\n",
       "    <tr>\n",
       "      <th>3</th>\n",
       "      <td>11.2</td>\n",
       "      <td>0.28</td>\n",
       "      <td>0.56</td>\n",
       "      <td>1.9</td>\n",
       "      <td>0.075</td>\n",
       "      <td>17.0</td>\n",
       "      <td>60.0</td>\n",
       "      <td>0.99800</td>\n",
       "      <td>3.16</td>\n",
       "      <td>0.58</td>\n",
       "      <td>9.8</td>\n",
       "      <td>6</td>\n",
       "      <td>NaN</td>\n",
       "    </tr>\n",
       "    <tr>\n",
       "      <th>4</th>\n",
       "      <td>7.4</td>\n",
       "      <td>0.70</td>\n",
       "      <td>0.00</td>\n",
       "      <td>1.9</td>\n",
       "      <td>0.076</td>\n",
       "      <td>11.0</td>\n",
       "      <td>34.0</td>\n",
       "      <td>0.99780</td>\n",
       "      <td>3.51</td>\n",
       "      <td>0.56</td>\n",
       "      <td>9.4</td>\n",
       "      <td>5</td>\n",
       "      <td>NaN</td>\n",
       "    </tr>\n",
       "    <tr>\n",
       "      <th>...</th>\n",
       "      <td>...</td>\n",
       "      <td>...</td>\n",
       "      <td>...</td>\n",
       "      <td>...</td>\n",
       "      <td>...</td>\n",
       "      <td>...</td>\n",
       "      <td>...</td>\n",
       "      <td>...</td>\n",
       "      <td>...</td>\n",
       "      <td>...</td>\n",
       "      <td>...</td>\n",
       "      <td>...</td>\n",
       "      <td>...</td>\n",
       "    </tr>\n",
       "    <tr>\n",
       "      <th>6492</th>\n",
       "      <td>6.2</td>\n",
       "      <td>0.21</td>\n",
       "      <td>0.29</td>\n",
       "      <td>1.6</td>\n",
       "      <td>0.039</td>\n",
       "      <td>24.0</td>\n",
       "      <td>92.0</td>\n",
       "      <td>0.99114</td>\n",
       "      <td>3.27</td>\n",
       "      <td>0.50</td>\n",
       "      <td>11.2</td>\n",
       "      <td>6</td>\n",
       "      <td>NaN</td>\n",
       "    </tr>\n",
       "    <tr>\n",
       "      <th>6493</th>\n",
       "      <td>6.6</td>\n",
       "      <td>0.32</td>\n",
       "      <td>0.36</td>\n",
       "      <td>8.0</td>\n",
       "      <td>0.047</td>\n",
       "      <td>57.0</td>\n",
       "      <td>168.0</td>\n",
       "      <td>0.99490</td>\n",
       "      <td>3.15</td>\n",
       "      <td>0.46</td>\n",
       "      <td>9.6</td>\n",
       "      <td>5</td>\n",
       "      <td>NaN</td>\n",
       "    </tr>\n",
       "    <tr>\n",
       "      <th>6494</th>\n",
       "      <td>6.5</td>\n",
       "      <td>0.24</td>\n",
       "      <td>0.19</td>\n",
       "      <td>1.2</td>\n",
       "      <td>0.041</td>\n",
       "      <td>30.0</td>\n",
       "      <td>111.0</td>\n",
       "      <td>0.99254</td>\n",
       "      <td>2.99</td>\n",
       "      <td>0.46</td>\n",
       "      <td>9.4</td>\n",
       "      <td>6</td>\n",
       "      <td>NaN</td>\n",
       "    </tr>\n",
       "    <tr>\n",
       "      <th>6495</th>\n",
       "      <td>5.5</td>\n",
       "      <td>0.29</td>\n",
       "      <td>0.30</td>\n",
       "      <td>1.1</td>\n",
       "      <td>0.022</td>\n",
       "      <td>20.0</td>\n",
       "      <td>110.0</td>\n",
       "      <td>0.98869</td>\n",
       "      <td>3.34</td>\n",
       "      <td>0.38</td>\n",
       "      <td>12.8</td>\n",
       "      <td>7</td>\n",
       "      <td>NaN</td>\n",
       "    </tr>\n",
       "    <tr>\n",
       "      <th>6496</th>\n",
       "      <td>6.0</td>\n",
       "      <td>0.21</td>\n",
       "      <td>0.38</td>\n",
       "      <td>0.8</td>\n",
       "      <td>0.020</td>\n",
       "      <td>22.0</td>\n",
       "      <td>98.0</td>\n",
       "      <td>0.98941</td>\n",
       "      <td>3.26</td>\n",
       "      <td>0.32</td>\n",
       "      <td>11.8</td>\n",
       "      <td>6</td>\n",
       "      <td>NaN</td>\n",
       "    </tr>\n",
       "  </tbody>\n",
       "</table>\n",
       "<p>6497 rows × 13 columns</p>\n",
       "</div>"
      ],
      "text/plain": [
       "      fixed acidity  volatile acidity  citric acid  residual sugar  chlorides  \\\n",
       "0               7.4              0.70         0.00             1.9      0.076   \n",
       "1               7.8              0.88         0.00             2.6      0.098   \n",
       "2               7.8              0.76         0.04             2.3      0.092   \n",
       "3              11.2              0.28         0.56             1.9      0.075   \n",
       "4               7.4              0.70         0.00             1.9      0.076   \n",
       "...             ...               ...          ...             ...        ...   \n",
       "6492            6.2              0.21         0.29             1.6      0.039   \n",
       "6493            6.6              0.32         0.36             8.0      0.047   \n",
       "6494            6.5              0.24         0.19             1.2      0.041   \n",
       "6495            5.5              0.29         0.30             1.1      0.022   \n",
       "6496            6.0              0.21         0.38             0.8      0.020   \n",
       "\n",
       "      free sulfur dioxide  total sulfur dioxide  density    pH  sulphates  \\\n",
       "0                    11.0                  34.0  0.99780  3.51       0.56   \n",
       "1                    25.0                  67.0  0.99680  3.20       0.68   \n",
       "2                    15.0                  54.0  0.99700  3.26       0.65   \n",
       "3                    17.0                  60.0  0.99800  3.16       0.58   \n",
       "4                    11.0                  34.0  0.99780  3.51       0.56   \n",
       "...                   ...                   ...      ...   ...        ...   \n",
       "6492                 24.0                  92.0  0.99114  3.27       0.50   \n",
       "6493                 57.0                 168.0  0.99490  3.15       0.46   \n",
       "6494                 30.0                 111.0  0.99254  2.99       0.46   \n",
       "6495                 20.0                 110.0  0.98869  3.34       0.38   \n",
       "6496                 22.0                  98.0  0.98941  3.26       0.32   \n",
       "\n",
       "      alcohol  quality  label  \n",
       "0         9.4        5    NaN  \n",
       "1         9.8        5    NaN  \n",
       "2         9.8        5    NaN  \n",
       "3         9.8        6    NaN  \n",
       "4         9.4        5    NaN  \n",
       "...       ...      ...    ...  \n",
       "6492     11.2        6    NaN  \n",
       "6493      9.6        5    NaN  \n",
       "6494      9.4        6    NaN  \n",
       "6495     12.8        7    NaN  \n",
       "6496     11.8        6    NaN  \n",
       "\n",
       "[6497 rows x 13 columns]"
      ]
     },
     "execution_count": 6,
     "metadata": {},
     "output_type": "execute_result"
    }
   ],
   "source": [
    "data_red_and_white"
   ]
  },
  {
   "cell_type": "code",
   "execution_count": 7,
   "id": "b2d610e0-5d99-4d99-883f-0bb747d35e54",
   "metadata": {},
   "outputs": [],
   "source": [
    "for i in range(len(data_red_and_white)):\n",
    "    if data_red_and_white.loc[i, 'quality'] < 4:\n",
    "        data_red_and_white.loc[i, 'label'] = 'Poor'\n",
    "    elif data_red_and_white.loc[i, 'quality'] < 7 and data_red_and_white['quality'][i] > 3:\n",
    "        data_red_and_white.loc[i, 'label'] = 'Good'\n",
    "    else:\n",
    "        data_red_and_white.loc[i, 'label'] = 'Excellent'"
   ]
  },
  {
   "cell_type": "code",
   "execution_count": 8,
   "id": "8a9d5e9e-065b-45c3-bf20-2316d6749660",
   "metadata": {},
   "outputs": [
    {
     "data": {
      "text/plain": [
       "Good         5190\n",
       "Excellent    1277\n",
       "Poor           30\n",
       "Name: label, dtype: int64"
      ]
     },
     "execution_count": 8,
     "metadata": {},
     "output_type": "execute_result"
    }
   ],
   "source": [
    "y = data_red_and_white['label']\n",
    "X = data_red_and_white.drop(['label', 'quality'], axis=1)\n",
    "value_counts = y.value_counts()\n",
    "value_counts"
   ]
  },
  {
   "cell_type": "markdown",
   "id": "5f36917b-bb1d-4ddf-be58-1f21941a668b",
   "metadata": {},
   "source": [
    "# Correlation\n",
    "Correlation among variables denotes how variables behave with respect to each other."
   ]
  },
  {
   "cell_type": "code",
   "execution_count": 9,
   "id": "8e2d8069-ea7a-4074-9dae-bea93703f1cd",
   "metadata": {},
   "outputs": [
    {
     "data": {
      "image/png": "[encoded data removed]",
      "text/plain": [
       "<Figure size 640x480 with 2 Axes>"
      ]
     },
     "metadata": {},
     "output_type": "display_data"
    }
   ],
   "source": [
    "dataplot = sb.heatmap(X.corr(), cmap=\"YlGnBu\", annot=True)\n"
   ]
  },
  {
   "cell_type": "markdown",
   "id": "baed9591-60ff-4808-bdfb-f11c1ca61a81",
   "metadata": {},
   "source": [
    "# Principle Component Analysis\n",
    "Since we saw that there was correlation observed among a lot of variables in the data, we can say that not all variables might be necessary to cover the distribution of data.\n",
    "\n",
    "Principle Component Analysis involves reducing the dimensions of a database while minimizing the information loss.\n",
    "For detailed technical explanation\n",
    "https://scikit-learn.org/stable/modules/generated/sklearn.decomposition.PCA.html\n",
    "\n",
    "https://wires.onlinelibrary.wiley.com/doi/abs/10.1002/wics.101\n",
    "\n",
    "https://www.youtube.com/watch?v=HMOI_lkzW08"
   ]
  },
  {
   "cell_type": "code",
   "execution_count": 10,
   "id": "8d716717-9db3-4b57-9938-7f777aa74878",
   "metadata": {},
   "outputs": [
    {
     "data": {
      "text/html": [
       "<style>#sk-container-id-1 {color: black;background-color: white;}#sk-container-id-1 pre{padding: 0;}#sk-container-id-1 div.sk-toggleable {background-color: white;}#sk-container-id-1 label.sk-toggleable__label {cursor: pointer;display: block;width: 100%;margin-bottom: 0;padding: 0.3em;box-sizing: border-box;text-align: center;}#sk-container-id-1 label.sk-toggleable__label-arrow:before {content: \"▸\";float: left;margin-right: 0.25em;color: #696969;}#sk-container-id-1 label.sk-toggleable__label-arrow:hover:before {color: black;}#sk-container-id-1 div.sk-estimator:hover label.sk-toggleable__label-arrow:before {color: black;}#sk-container-id-1 div.sk-toggleable__content {max-height: 0;max-width: 0;overflow: hidden;text-align: left;background-color: #f0f8ff;}#sk-container-id-1 div.sk-toggleable__content pre {margin: 0.2em;color: black;border-radius: 0.25em;background-color: #f0f8ff;}#sk-container-id-1 input.sk-toggleable__control:checked~div.sk-toggleable__content {max-height: 200px;max-width: 100%;overflow: auto;}#sk-container-id-1 input.sk-toggleable__control:checked~label.sk-toggleable__label-arrow:before {content: \"▾\";}#sk-container-id-1 div.sk-estimator input.sk-toggleable__control:checked~label.sk-toggleable__label {background-color: #d4ebff;}#sk-container-id-1 div.sk-label input.sk-toggleable__control:checked~label.sk-toggleable__label {background-color: #d4ebff;}#sk-container-id-1 input.sk-hidden--visually {border: 0;clip: rect(1px 1px 1px 1px);clip: rect(1px, 1px, 1px, 1px);height: 1px;margin: -1px;overflow: hidden;padding: 0;position: absolute;width: 1px;}#sk-container-id-1 div.sk-estimator {font-family: monospace;background-color: #f0f8ff;border: 1px dotted black;border-radius: 0.25em;box-sizing: border-box;margin-bottom: 0.5em;}#sk-container-id-1 div.sk-estimator:hover {background-color: #d4ebff;}#sk-container-id-1 div.sk-parallel-item::after {content: \"\";width: 100%;border-bottom: 1px solid gray;flex-grow: 1;}#sk-container-id-1 div.sk-label:hover label.sk-toggleable__label {background-color: #d4ebff;}#sk-container-id-1 div.sk-serial::before {content: \"\";position: absolute;border-left: 1px solid gray;box-sizing: border-box;top: 0;bottom: 0;left: 50%;z-index: 0;}#sk-container-id-1 div.sk-serial {display: flex;flex-direction: column;align-items: center;background-color: white;padding-right: 0.2em;padding-left: 0.2em;position: relative;}#sk-container-id-1 div.sk-item {position: relative;z-index: 1;}#sk-container-id-1 div.sk-parallel {display: flex;align-items: stretch;justify-content: center;background-color: white;position: relative;}#sk-container-id-1 div.sk-item::before, #sk-container-id-1 div.sk-parallel-item::before {content: \"\";position: absolute;border-left: 1px solid gray;box-sizing: border-box;top: 0;bottom: 0;left: 50%;z-index: -1;}#sk-container-id-1 div.sk-parallel-item {display: flex;flex-direction: column;z-index: 1;position: relative;background-color: white;}#sk-container-id-1 div.sk-parallel-item:first-child::after {align-self: flex-end;width: 50%;}#sk-container-id-1 div.sk-parallel-item:last-child::after {align-self: flex-start;width: 50%;}#sk-container-id-1 div.sk-parallel-item:only-child::after {width: 0;}#sk-container-id-1 div.sk-dashed-wrapped {border: 1px dashed gray;margin: 0 0.4em 0.5em 0.4em;box-sizing: border-box;padding-bottom: 0.4em;background-color: white;}#sk-container-id-1 div.sk-label label {font-family: monospace;font-weight: bold;display: inline-block;line-height: 1.2em;}#sk-container-id-1 div.sk-label-container {text-align: center;}#sk-container-id-1 div.sk-container {/* jupyter's `normalize.less` sets `[hidden] { display: none; }` but bootstrap.min.css set `[hidden] { display: none !important; }` so we also need the `!important` here to be able to override the default hidden behavior on the sphinx rendered scikit-learn.org. See: https://github.com/scikit-learn/scikit-learn/issues/21755 */display: inline-block !important;position: relative;}#sk-container-id-1 div.sk-text-repr-fallback {display: none;}</style><div id=\"sk-container-id-1\" class=\"sk-top-container\"><div class=\"sk-text-repr-fallback\"><pre>PCA(n_components=7)</pre><b>In a Jupyter environment, please rerun this cell to show the HTML representation or trust the notebook. <br />On GitHub, the HTML representation is unable to render, please try loading this page with nbviewer.org.</b></div><div class=\"sk-container\" hidden><div class=\"sk-item\"><div class=\"sk-estimator sk-toggleable\"><input class=\"sk-toggleable__control sk-hidden--visually\" id=\"sk-estimator-id-1\" type=\"checkbox\" checked><label for=\"sk-estimator-id-1\" class=\"sk-toggleable__label sk-toggleable__label-arrow\">PCA</label><div class=\"sk-toggleable__content\"><pre>PCA(n_components=7)</pre></div></div></div></div></div>"
      ],
      "text/plain": [
       "PCA(n_components=7)"
      ]
     },
     "execution_count": 10,
     "metadata": {},
     "output_type": "execute_result"
    }
   ],
   "source": [
    "X_pca = X\n",
    "\n",
    "pca = PCA(n_components=7)\n",
    "pca.fit(X_pca)"
   ]
  },
  {
   "cell_type": "markdown",
   "id": "15f9ea8f-09a4-437f-9e05-b4c6cd99d24e",
   "metadata": {},
   "source": [
    "# Explanation on \"n_components\"\n",
    "\n",
    "This variable means the number of dimensions we want of the data at the end of PCA.\n",
    "\n",
    "This parameter of PCA function is manually tunable. It means that it is not necessary that any one specific value is \"best\".\n",
    "\n",
    "The more is n_components, the less will be the loss of information. Our goal should be to minimize the dimensions while also trying to minimize the information loss. This is a tradeoff, which we will better understand after this data is used to fit a model. Here, I have only arbitrarily set the value to 7. Hence the resulting data will be of 7 dimensions instead of the original 11"
   ]
  },
  {
   "cell_type": "code",
   "execution_count": 11,
   "id": "35769912-b20d-458e-a3b5-f77869201962",
   "metadata": {},
   "outputs": [
    {
     "data": {
      "text/plain": [
       "array([[-7.40796441e-03, -1.18432899e-03,  4.86869305e-04,\n",
       "         4.10197175e-02, -1.68198717e-04,  2.30481781e-01,\n",
       "         9.72166826e-01,  1.77233905e-06, -6.55520548e-04,\n",
       "        -7.04338632e-04, -5.45173684e-03],\n",
       "       [-5.36562393e-03, -7.84498565e-04, -2.47947037e-04,\n",
       "         1.86364316e-02,  6.72674387e-05,  9.72658270e-01,\n",
       "        -2.31409676e-01,  1.32996637e-06,  6.47986887e-04,\n",
       "         3.46357533e-04,  2.85017390e-03],\n",
       "       [ 2.37980377e-02,  8.84101767e-04,  1.92869419e-03,\n",
       "         9.95274105e-01,  1.73019914e-04, -2.72149098e-02,\n",
       "        -3.58290013e-02,  4.60408843e-04, -6.91161807e-03,\n",
       "        -1.93529116e-03, -8.23558184e-02],\n",
       "       [ 8.57756781e-01,  1.71342614e-02,  3.53280563e-02,\n",
       "        -6.23231011e-02,  9.19466873e-03,  8.47350928e-03,\n",
       "         4.31640540e-03,  1.41804609e-03, -3.53876123e-02,\n",
       "         2.70799224e-02, -5.06621053e-01],\n",
       "       [ 5.07838342e-01, -1.53591509e-02,  4.34990985e-02,\n",
       "         5.87771145e-02, -6.57467616e-03,  6.06766412e-04,\n",
       "         5.99693997e-03, -6.59212730e-04, -3.12154997e-02,\n",
       "         6.46415394e-03,  8.57567029e-01],\n",
       "       [ 3.44626311e-02,  6.62157016e-01, -4.17598533e-01,\n",
       "         6.27587706e-03,  3.81150050e-02,  3.41545106e-04,\n",
       "         1.69013510e-03,  5.03200220e-03,  5.40971590e-01,\n",
       "         3.01507583e-01,  2.99058618e-02],\n",
       "       [-2.18982295e-02, -3.68620241e-01,  4.38305606e-01,\n",
       "         3.46152765e-03,  3.53958487e-02, -8.74500701e-04,\n",
       "        -2.49218715e-05,  2.89974731e-03,  3.86573974e-01,\n",
       "         7.21638768e-01, -7.19788297e-03]])"
      ]
     },
     "execution_count": 11,
     "metadata": {},
     "output_type": "execute_result"
    }
   ],
   "source": [
    "pca.components_"
   ]
  },
  {
   "cell_type": "markdown",
   "id": "a9285791-64c3-4778-8db6-19c6dcaab1c9",
   "metadata": {},
   "source": [
    "### Checking Proportions of '0' labels to '1' labels in dataset"
   ]
  },
  {
   "cell_type": "code",
   "execution_count": 12,
   "id": "f04076c3-1176-4808-bed1-c4aea900358f",
   "metadata": {},
   "outputs": [
    {
     "data": {
      "text/plain": [
       "Good         5190\n",
       "Excellent    1277\n",
       "Poor           30\n",
       "Name: label, dtype: int64"
      ]
     },
     "execution_count": 12,
     "metadata": {},
     "output_type": "execute_result"
    }
   ],
   "source": [
    "value_counts"
   ]
  },
  {
   "cell_type": "code",
   "execution_count": 13,
   "id": "195919f0-7ef6-4252-b3c4-0684bddf4a3f",
   "metadata": {},
   "outputs": [],
   "source": [
    "n = len(y) # total samples"
   ]
  },
  {
   "cell_type": "code",
   "execution_count": 14,
   "id": "78f4e7eb-c7fb-424d-99c3-6e409bf4b74f",
   "metadata": {},
   "outputs": [
    {
     "name": "stdout",
     "output_type": "stream",
     "text": [
      "Percent of \"poor\" from total 0.7988302293366168\n",
      "Percent of  \"good\" total 0.19655225488687086\n",
      "Making sure the proportions add up to 1:\n"
     ]
    },
    {
     "data": {
      "text/plain": [
       "1.0"
      ]
     },
     "execution_count": 14,
     "metadata": {},
     "output_type": "execute_result"
    }
   ],
   "source": [
    "print('Percent of \"poor\" from total', value_counts[0]/n)\n",
    "print('Percent of  \"good\" total', value_counts[1]/n)\n",
    "print('Making sure the proportions add up to 1:')\n",
    "value_counts[0]/n + value_counts[1]/n + value_counts[2]/n"
   ]
  },
  {
   "cell_type": "markdown",
   "id": "10ae8c23-f513-45a5-bbcd-0439a844b188",
   "metadata": {},
   "source": [
    "# Trainning on 0.75% and testing on 0.25% \n",
    "Once I have gotten the metrics for this phase, the next phase starts over but instead uses 3-Fold Cross Validation. This is done to compare the results."
   ]
  },
  {
   "cell_type": "markdown",
   "id": "82829899-9a01-4513-aa2d-d864f3d08e48",
   "metadata": {},
   "source": [
    "### Shuffling and Splitting dataset to x for the features and y for the labels\n",
    "\n",
    "x and y will be used throughout the project\n",
    "- On train test split for phase 1\n",
    "- During Cross Validation to break up x and y into 3 chunks"
   ]
  },
  {
   "cell_type": "markdown",
   "id": "b5eff2af-0057-4dad-80a6-d5fa1679a315",
   "metadata": {
    "tags": []
   },
   "source": [
    "## Split the data into trainning set and testing set"
   ]
  },
  {
   "cell_type": "code",
   "execution_count": 15,
   "id": "772b2bc8-6993-4be5-8f22-66309a8ef8d8",
   "metadata": {},
   "outputs": [],
   "source": [
    "from sklearn.utils import shuffle\n",
    "X_train, X_test, y_train, y_test = train_test_split(\n",
    "    X,\n",
    "    y,\n",
    "    test_size=0.25,\n",
    "    #random_state=0\n",
    "    shuffle=True,\n",
    "    stratify=y\n",
    ")"
   ]
  },
  {
   "cell_type": "markdown",
   "id": "0ea2fe93-0e69-4bfb-85bd-3e60522b0f4e",
   "metadata": {},
   "source": [
    "The stratify parameter ensurse proportions of 0 and 1 are maintained in both training and testing set."
   ]
  },
  {
   "cell_type": "markdown",
   "id": "ab5022b8-f230-41bf-bf8d-acea5c427c41",
   "metadata": {},
   "source": [
    "Making sure there is roughly the same proportion of labels as the original dataset. \\\n",
    "Original dataset had 8.67777 times more 0 than 1"
   ]
  },
  {
   "cell_type": "markdown",
   "id": "f4d8e477-0981-4da1-bacb-f577fe1ac91c",
   "metadata": {},
   "source": [
    "## Hyperparameter Tuning\n",
    "\n",
    "The hyperparameters in the random forest model are either used to increase the predictive power of the model or to make the model faster. "
   ]
  },
  {
   "cell_type": "markdown",
   "id": "21119800-bba1-4ab7-b021-297ae15929af",
   "metadata": {
    "tags": []
   },
   "source": [
    "| Hyperparameter    | Description\n",
    "|-------------------|:----------\n",
    "| n_estimators      | number of trees in the forest \n",
    "| max_features      | Sets the number of features to select when bootstrapping\n",
    "| Bootstrap         | Bootstrap=True (default) samples are drawn with replacement \n",
    "| random_state      | generated random numbers for the random forest."
   ]
  },
  {
   "cell_type": "markdown",
   "id": "0762a946-ed99-46ca-8537-f6de7e80d858",
   "metadata": {},
   "source": [
    "### Setting grid ranges"
   ]
  },
  {
   "cell_type": "code",
   "execution_count": 16,
   "id": "43414ac0-f269-4c2e-a59b-97618a6c8963",
   "metadata": {},
   "outputs": [
    {
     "data": {
      "text/plain": [
       "array([1.5, 2.5, 3.5, 4.5, 5.5])"
      ]
     },
     "execution_count": 16,
     "metadata": {},
     "output_type": "execute_result"
    }
   ],
   "source": [
    "import math\n",
    "from sklearn.metrics import f1_score, make_scorer\n",
    "num_features = X.shape[1]\n",
    "grid_ranges = {\n",
    "    'n_estimators': [500, 1000],\n",
    "    'max_features': np.arange(int(math.sqrt(num_features)/2), int(math.sqrt(num_features))*2, 1),\n",
    "    'bootstrap': [True],\n",
    "    'oob_score': [True],\n",
    "    'random_state': [1] # for testing\n",
    "}\n",
    "clf = GridSearchCV(\n",
    "    estimator=RandomForestClassifier(),\n",
    "    param_grid=grid_ranges,\n",
    "    cv=3,\n",
    "    n_jobs=-1,\n",
    "    verbose=1,\n",
    ")\n",
    "\n",
    "np.arange(int(math.sqrt(num_features))/2, int(math.sqrt(num_features))*2, 1)"
   ]
  },
  {
   "cell_type": "markdown",
   "id": "c09b9bb4-cf60-4d98-aeba-a3e99634de51",
   "metadata": {},
   "source": [
    "## Fitting the Random Forest Classifier\n",
    "\n",
    "Because we used GridSearchCV, when we fit the classifier, it will automatically do a grid search to find the best hyperparameters"
   ]
  },
  {
   "cell_type": "code",
   "execution_count": 17,
   "id": "73797ced-eaa6-4f31-9958-8f1a4e20aa76",
   "metadata": {},
   "outputs": [
    {
     "name": "stdout",
     "output_type": "stream",
     "text": [
      "Fitting 3 folds for each of 10 candidates, totalling 30 fits\n"
     ]
    },
    {
     "data": {
      "text/html": [
       "<style>#sk-container-id-2 {color: black;background-color: white;}#sk-container-id-2 pre{padding: 0;}#sk-container-id-2 div.sk-toggleable {background-color: white;}#sk-container-id-2 label.sk-toggleable__label {cursor: pointer;display: block;width: 100%;margin-bottom: 0;padding: 0.3em;box-sizing: border-box;text-align: center;}#sk-container-id-2 label.sk-toggleable__label-arrow:before {content: \"▸\";float: left;margin-right: 0.25em;color: #696969;}#sk-container-id-2 label.sk-toggleable__label-arrow:hover:before {color: black;}#sk-container-id-2 div.sk-estimator:hover label.sk-toggleable__label-arrow:before {color: black;}#sk-container-id-2 div.sk-toggleable__content {max-height: 0;max-width: 0;overflow: hidden;text-align: left;background-color: #f0f8ff;}#sk-container-id-2 div.sk-toggleable__content pre {margin: 0.2em;color: black;border-radius: 0.25em;background-color: #f0f8ff;}#sk-container-id-2 input.sk-toggleable__control:checked~div.sk-toggleable__content {max-height: 200px;max-width: 100%;overflow: auto;}#sk-container-id-2 input.sk-toggleable__control:checked~label.sk-toggleable__label-arrow:before {content: \"▾\";}#sk-container-id-2 div.sk-estimator input.sk-toggleable__control:checked~label.sk-toggleable__label {background-color: #d4ebff;}#sk-container-id-2 div.sk-label input.sk-toggleable__control:checked~label.sk-toggleable__label {background-color: #d4ebff;}#sk-container-id-2 input.sk-hidden--visually {border: 0;clip: rect(1px 1px 1px 1px);clip: rect(1px, 1px, 1px, 1px);height: 1px;margin: -1px;overflow: hidden;padding: 0;position: absolute;width: 1px;}#sk-container-id-2 div.sk-estimator {font-family: monospace;background-color: #f0f8ff;border: 1px dotted black;border-radius: 0.25em;box-sizing: border-box;margin-bottom: 0.5em;}#sk-container-id-2 div.sk-estimator:hover {background-color: #d4ebff;}#sk-container-id-2 div.sk-parallel-item::after {content: \"\";width: 100%;border-bottom: 1px solid gray;flex-grow: 1;}#sk-container-id-2 div.sk-label:hover label.sk-toggleable__label {background-color: #d4ebff;}#sk-container-id-2 div.sk-serial::before {content: \"\";position: absolute;border-left: 1px solid gray;box-sizing: border-box;top: 0;bottom: 0;left: 50%;z-index: 0;}#sk-container-id-2 div.sk-serial {display: flex;flex-direction: column;align-items: center;background-color: white;padding-right: 0.2em;padding-left: 0.2em;position: relative;}#sk-container-id-2 div.sk-item {position: relative;z-index: 1;}#sk-container-id-2 div.sk-parallel {display: flex;align-items: stretch;justify-content: center;background-color: white;position: relative;}#sk-container-id-2 div.sk-item::before, #sk-container-id-2 div.sk-parallel-item::before {content: \"\";position: absolute;border-left: 1px solid gray;box-sizing: border-box;top: 0;bottom: 0;left: 50%;z-index: -1;}#sk-container-id-2 div.sk-parallel-item {display: flex;flex-direction: column;z-index: 1;position: relative;background-color: white;}#sk-container-id-2 div.sk-parallel-item:first-child::after {align-self: flex-end;width: 50%;}#sk-container-id-2 div.sk-parallel-item:last-child::after {align-self: flex-start;width: 50%;}#sk-container-id-2 div.sk-parallel-item:only-child::after {width: 0;}#sk-container-id-2 div.sk-dashed-wrapped {border: 1px dashed gray;margin: 0 0.4em 0.5em 0.4em;box-sizing: border-box;padding-bottom: 0.4em;background-color: white;}#sk-container-id-2 div.sk-label label {font-family: monospace;font-weight: bold;display: inline-block;line-height: 1.2em;}#sk-container-id-2 div.sk-label-container {text-align: center;}#sk-container-id-2 div.sk-container {/* jupyter's `normalize.less` sets `[hidden] { display: none; }` but bootstrap.min.css set `[hidden] { display: none !important; }` so we also need the `!important` here to be able to override the default hidden behavior on the sphinx rendered scikit-learn.org. See: https://github.com/scikit-learn/scikit-learn/issues/21755 */display: inline-block !important;position: relative;}#sk-container-id-2 div.sk-text-repr-fallback {display: none;}</style><div id=\"sk-container-id-2\" class=\"sk-top-container\"><div class=\"sk-text-repr-fallback\"><pre>GridSearchCV(cv=3, estimator=RandomForestClassifier(), n_jobs=-1,\n",
       "             param_grid={&#x27;bootstrap&#x27;: [True],\n",
       "                         &#x27;max_features&#x27;: array([1, 2, 3, 4, 5]),\n",
       "                         &#x27;n_estimators&#x27;: [500, 1000], &#x27;oob_score&#x27;: [True],\n",
       "                         &#x27;random_state&#x27;: [1]},\n",
       "             verbose=1)</pre><b>In a Jupyter environment, please rerun this cell to show the HTML representation or trust the notebook. <br />On GitHub, the HTML representation is unable to render, please try loading this page with nbviewer.org.</b></div><div class=\"sk-container\" hidden><div class=\"sk-item sk-dashed-wrapped\"><div class=\"sk-label-container\"><div class=\"sk-label sk-toggleable\"><input class=\"sk-toggleable__control sk-hidden--visually\" id=\"sk-estimator-id-2\" type=\"checkbox\" ><label for=\"sk-estimator-id-2\" class=\"sk-toggleable__label sk-toggleable__label-arrow\">GridSearchCV</label><div class=\"sk-toggleable__content\"><pre>GridSearchCV(cv=3, estimator=RandomForestClassifier(), n_jobs=-1,\n",
       "             param_grid={&#x27;bootstrap&#x27;: [True],\n",
       "                         &#x27;max_features&#x27;: array([1, 2, 3, 4, 5]),\n",
       "                         &#x27;n_estimators&#x27;: [500, 1000], &#x27;oob_score&#x27;: [True],\n",
       "                         &#x27;random_state&#x27;: [1]},\n",
       "             verbose=1)</pre></div></div></div><div class=\"sk-parallel\"><div class=\"sk-parallel-item\"><div class=\"sk-item\"><div class=\"sk-label-container\"><div class=\"sk-label sk-toggleable\"><input class=\"sk-toggleable__control sk-hidden--visually\" id=\"sk-estimator-id-3\" type=\"checkbox\" ><label for=\"sk-estimator-id-3\" class=\"sk-toggleable__label sk-toggleable__label-arrow\">estimator: RandomForestClassifier</label><div class=\"sk-toggleable__content\"><pre>RandomForestClassifier()</pre></div></div></div><div class=\"sk-serial\"><div class=\"sk-item\"><div class=\"sk-estimator sk-toggleable\"><input class=\"sk-toggleable__control sk-hidden--visually\" id=\"sk-estimator-id-4\" type=\"checkbox\" ><label for=\"sk-estimator-id-4\" class=\"sk-toggleable__label sk-toggleable__label-arrow\">RandomForestClassifier</label><div class=\"sk-toggleable__content\"><pre>RandomForestClassifier()</pre></div></div></div></div></div></div></div></div></div></div>"
      ],
      "text/plain": [
       "GridSearchCV(cv=3, estimator=RandomForestClassifier(), n_jobs=-1,\n",
       "             param_grid={'bootstrap': [True],\n",
       "                         'max_features': array([1, 2, 3, 4, 5]),\n",
       "                         'n_estimators': [500, 1000], 'oob_score': [True],\n",
       "                         'random_state': [1]},\n",
       "             verbose=1)"
      ]
     },
     "execution_count": 17,
     "metadata": {},
     "output_type": "execute_result"
    }
   ],
   "source": [
    "clf.fit(X_train, y_train)"
   ]
  },
  {
   "cell_type": "code",
   "execution_count": 18,
   "id": "4fd8e6d2-ce64-4d81-aec0-8d83bf2ce567",
   "metadata": {},
   "outputs": [
    {
     "name": "stdout",
     "output_type": "stream",
     "text": [
      "{'bootstrap': True, 'max_features': 2, 'n_estimators': 1000, 'oob_score': True, 'random_state': 1}\n"
     ]
    }
   ],
   "source": [
    "best_parameters = clf.best_params_\n",
    "print(best_parameters)"
   ]
  },
  {
   "cell_type": "markdown",
   "id": "90db5611-1c9d-43f5-a2d3-46dfa1935c53",
   "metadata": {},
   "source": [
    "## Predict with test set"
   ]
  },
  {
   "cell_type": "code",
   "execution_count": 19,
   "id": "6aacf6e7-9d87-400c-b115-76b9d38af67b",
   "metadata": {},
   "outputs": [],
   "source": [
    "predictions = clf.predict(X_test)"
   ]
  },
  {
   "cell_type": "markdown",
   "id": "aee8e023-da41-46c2-9c3b-17b212dc5337",
   "metadata": {},
   "source": [
    "## Metrics"
   ]
  },
  {
   "cell_type": "markdown",
   "id": "ee354e57-589c-4523-a977-b9398888b931",
   "metadata": {},
   "source": [
    "### Accuracy Confusion Matrix"
   ]
  },
  {
   "cell_type": "code",
   "execution_count": 20,
   "id": "020757cf-016a-4571-a3f1-93faed045e6c",
   "metadata": {},
   "outputs": [
    {
     "data": {
      "text/plain": [
       "<sklearn.metrics._plot.confusion_matrix.ConfusionMatrixDisplay at 0x1280852d0>"
      ]
     },
     "execution_count": 20,
     "metadata": {},
     "output_type": "execute_result"
    },
    {
     "data": {
      "image/png": "[encoded data removed]",
      "text/plain": [
       "<Figure size 640x480 with 2 Axes>"
      ]
     },
     "metadata": {},
     "output_type": "display_data"
    }
   ],
   "source": [
    "cm = confusion_matrix(y_test, predictions, labels=clf.classes_)\n",
    "disp = ConfusionMatrixDisplay(confusion_matrix=cm, display_labels=clf.classes_)\n",
    "disp.plot()"
   ]
  },
  {
   "cell_type": "markdown",
   "id": "bb30b7c4-d917-4488-a76c-de5234d11137",
   "metadata": {},
   "source": [
    "### Accuracy Score"
   ]
  },
  {
   "cell_type": "code",
   "execution_count": 21,
   "id": "e3dbf3a1-ee40-4320-ab96-f3a350ceb411",
   "metadata": {},
   "outputs": [
    {
     "name": "stdout",
     "output_type": "stream",
     "text": [
      "Accuracy Score: 0.8824615384615384\n"
     ]
    }
   ],
   "source": [
    "print('Accuracy Score:', accuracy_score(y_test, predictions))"
   ]
  },
  {
   "cell_type": "code",
   "execution_count": 22,
   "id": "ea4b6f08-52bd-47cc-a628-3f28463c5cf4",
   "metadata": {},
   "outputs": [],
   "source": [
    "### Precision, Recall, f1-score"
   ]
  },
  {
   "cell_type": "code",
   "execution_count": 23,
   "id": "2fae2d04-1638-4995-851a-7c28277e2de3",
   "metadata": {},
   "outputs": [
    {
     "name": "stdout",
     "output_type": "stream",
     "text": [
      "              precision    recall  f1-score   support\n",
      "\n",
      "   Excellent       0.82      0.54      0.65       319\n",
      "        Good       0.89      0.97      0.93      1298\n",
      "        Poor       0.00      0.00      0.00         8\n",
      "\n",
      "    accuracy                           0.88      1625\n",
      "   macro avg       0.57      0.50      0.53      1625\n",
      "weighted avg       0.87      0.88      0.87      1625\n",
      "\n"
     ]
    }
   ],
   "source": [
    "from sklearn.metrics import classification_report\n",
    "print(classification_report(y_test, predictions, zero_division=0))"
   ]
  },
  {
   "cell_type": "markdown",
   "id": "6bc71f8c-ce50-4c69-b278-93c698ab244c",
   "metadata": {},
   "source": [
    "### Out of Bag Error - OOB"
   ]
  },
  {
   "cell_type": "code",
   "execution_count": 24,
   "id": "8ffed6c2-4107-478d-910f-9878aada9494",
   "metadata": {},
   "outputs": [
    {
     "name": "stdout",
     "output_type": "stream",
     "text": [
      "Out of Bag Score is: 0.8838259441707718\n",
      "Out of Bag Error is: 0.11617405582922824\n"
     ]
    }
   ],
   "source": [
    "no_cv_oob = clf.best_estimator_.oob_score_\n",
    "print('Out of Bag Score is:', no_cv_oob)\n",
    "print('Out of Bag Error is:', 1 - no_cv_oob)"
   ]
  },
  {
   "cell_type": "markdown",
   "id": "f802fb1d-ef57-4c9a-944e-d7442df1dd69",
   "metadata": {},
   "source": [
    "### ROC Curve"
   ]
  },
  {
   "cell_type": "code",
   "execution_count": 25,
   "id": "1bd3b2d1-f0e6-4930-9e01-a90510e05e3e",
   "metadata": {},
   "outputs": [
    {
     "data": {
      "text/plain": [
       "array([[1, 0, 0],\n",
       "       [0, 1, 0]])"
      ]
     },
     "execution_count": 25,
     "metadata": {},
     "output_type": "execute_result"
    }
   ],
   "source": [
    "from sklearn.preprocessing import label_binarize\n",
    "\n",
    "label_binarize(['poor', 'good'], classes=['poor', 'good', 'excellent'])"
   ]
  },
  {
   "cell_type": "code",
   "execution_count": 26,
   "id": "ede2c50b-c174-4f03-8333-1dd6e9f50c36",
   "metadata": {},
   "outputs": [
    {
     "data": {
      "text/plain": [
       "\"\\nfpr, tpr, thresholds = metrics.roc_curve(y_test, predictions, pos_label=1)\\nroc_auc = metrics.auc(fpr, tpr)\\nclf_disp = RocCurveDisplay(fpr=fpr, tpr=tpr, roc_auc=roc_auc, estimator_name='Random Forest')\\nclf_disp.plot()\\n\""
      ]
     },
     "execution_count": 26,
     "metadata": {},
     "output_type": "execute_result"
    }
   ],
   "source": [
    "''' This only works with binary classification '''\n",
    "\n",
    "'''\n",
    "fpr, tpr, thresholds = metrics.roc_curve(y_test, predictions, pos_label=1)\n",
    "roc_auc = metrics.auc(fpr, tpr)\n",
    "clf_disp = RocCurveDisplay(fpr=fpr, tpr=tpr, roc_auc=roc_auc, estimator_name='Random Forest')\n",
    "clf_disp.plot()\n",
    "'''"
   ]
  },
  {
   "cell_type": "markdown",
   "id": "dce0af0a-c16d-4d4d-a173-bec9082c0e1b",
   "metadata": {},
   "source": [
    "# Cross Validation\n",
    "\n",
    "Now let us use Cross Validation to Split the dataset and train with 3-fold CV"
   ]
  },
  {
   "cell_type": "markdown",
   "id": "e03ea2c9-be44-4a10-b782-6000df22bfa1",
   "metadata": {},
   "source": [
    "## Splitting the data 3 ways\n",
    "\n",
    "There is an awesome method in SciKit-Learn that will partition the dataset into 3 folds and at the same time maintain the proportions of 0 to 1 labels"
   ]
  },
  {
   "cell_type": "code",
   "execution_count": 27,
   "id": "23f048c1-329b-4048-bef9-06afe1ff42af",
   "metadata": {},
   "outputs": [
    {
     "name": "stdout",
     "output_type": "stream",
     "text": [
      "total samples 6497\n"
     ]
    }
   ],
   "source": [
    "''' First split the data 3 ways '''\n",
    "from sklearn.model_selection import StratifiedKFold\n",
    "\n",
    "#first_third = df.iloc[:df.shape[0]//3]\n",
    "#second_third = df.iloc[df.shape[0]//3 : 2*df.shape[0]//3]\n",
    "#third_third = df.iloc[df.shape[0]//3*2 : ]\n",
    "\n",
    "skf = StratifiedKFold(n_splits=3, shuffle=True, random_state=1)\n",
    "\n",
    "idx = 0\n",
    "folds = []\n",
    "#pd.DataFrame(columns=df.columns)\n",
    "\n",
    "print('total samples', X.shape[0])\n",
    "\n",
    "for train_index, test_index in skf.split(X, y):\n",
    "    #print(\"TRAIN:\", train_index, \"TEST:\", test_index)\n",
    "    #folds = pd.concat([folds, df.iloc[train_index]], axis=0)\n",
    "    X_train, X_test = X.iloc[train_index], X.iloc[test_index]\n",
    "    y_train, y_test = y.iloc[train_index], y.iloc[test_index]\n",
    "    \n",
    "    folds.append(data_red_and_white.iloc[test_index])\n",
    "    \n",
    "    #folds.append(df.iloc[x_train])\n",
    "\n",
    "first_third   = folds[0]\n",
    "second_third  = folds[1]\n",
    "third_third   = folds[2]\n"
   ]
  },
  {
   "cell_type": "markdown",
   "id": "4b737f7a-b871-41f0-a76c-95612ec2da38",
   "metadata": {},
   "source": [
    "Making sure the data got split correctly:"
   ]
  },
  {
   "cell_type": "code",
   "execution_count": 28,
   "id": "6d23f78a-fd85-4627-91fe-785476f06f5c",
   "metadata": {},
   "outputs": [
    {
     "name": "stdout",
     "output_type": "stream",
     "text": [
      "Checking to make sure all thirds add up to the total of  6497\n",
      "sum of thirds 6497\n",
      "proportions of labels in each fold:\n",
      "0.8024118738404453\n",
      "0.8024118738404453\n",
      "0.8024118738404453\n"
     ]
    }
   ],
   "source": [
    "print('Checking to make sure all thirds add up to the total of ', len(X))\n",
    "print('sum of thirds', first_third.shape[0] + second_third.shape[0] + third_third.shape[0])\n",
    "\n",
    "print('proportions of labels in each fold:')\n",
    "print(first_third['label'].value_counts()[0]/(first_third['label'].value_counts()[0] + first_third['label'].value_counts()[1]))\n",
    "print(second_third['label'].value_counts()[0]/(first_third['label'].value_counts()[0] + first_third['label'].value_counts()[1]))\n",
    "print(third_third['label'].value_counts()[0]/(first_third['label'].value_counts()[0] + first_third['label'].value_counts()[1]))"
   ]
  },
  {
   "cell_type": "markdown",
   "id": "3ba46503-bb29-4c6b-99ab-612827673b34",
   "metadata": {},
   "source": [
    "<b>Here I am preparing the random forest classifier with a grid search so it will be ready to tune and fit</b>"
   ]
  },
  {
   "cell_type": "code",
   "execution_count": 29,
   "id": "feb4b87a-3c86-4522-b34d-0d2b34e63750",
   "metadata": {},
   "outputs": [],
   "source": [
    "grid_ranges = {\n",
    "    'n_estimators': [500, 1000, 1500],\n",
    "    'max_features': np.arange(int(math.sqrt(num_features)/2), int(math.sqrt(num_features))*2, 1),\n",
    "    'bootstrap': [True],\n",
    "    'oob_score': [True],\n",
    "    'random_state': [1] # For reporting purposes\n",
    "}\n",
    "clf = GridSearchCV(\n",
    "    estimator=RandomForestClassifier(),\n",
    "    param_grid=grid_ranges,\n",
    "    cv=3,\n",
    "    n_jobs=-1,\n",
    "    verbose=1\n",
    ")"
   ]
  },
  {
   "cell_type": "markdown",
   "id": "4a8929d1-1797-49f9-9bba-3852cc094cef",
   "metadata": {},
   "source": [
    "## First Repetition"
   ]
  },
  {
   "cell_type": "markdown",
   "id": "7f415a89-b442-4b01-a710-7ecc2bcbb2a4",
   "metadata": {},
   "source": [
    "### Trainning on first Two-folds"
   ]
  },
  {
   "cell_type": "code",
   "execution_count": 30,
   "id": "c636480e-f8f8-4cfd-960b-d6be3ffbedba",
   "metadata": {},
   "outputs": [
    {
     "name": "stdout",
     "output_type": "stream",
     "text": [
      "Fitting 3 folds for each of 15 candidates, totalling 45 fits\n"
     ]
    },
    {
     "data": {
      "text/html": [
       "<style>#sk-container-id-3 {color: black;background-color: white;}#sk-container-id-3 pre{padding: 0;}#sk-container-id-3 div.sk-toggleable {background-color: white;}#sk-container-id-3 label.sk-toggleable__label {cursor: pointer;display: block;width: 100%;margin-bottom: 0;padding: 0.3em;box-sizing: border-box;text-align: center;}#sk-container-id-3 label.sk-toggleable__label-arrow:before {content: \"▸\";float: left;margin-right: 0.25em;color: #696969;}#sk-container-id-3 label.sk-toggleable__label-arrow:hover:before {color: black;}#sk-container-id-3 div.sk-estimator:hover label.sk-toggleable__label-arrow:before {color: black;}#sk-container-id-3 div.sk-toggleable__content {max-height: 0;max-width: 0;overflow: hidden;text-align: left;background-color: #f0f8ff;}#sk-container-id-3 div.sk-toggleable__content pre {margin: 0.2em;color: black;border-radius: 0.25em;background-color: #f0f8ff;}#sk-container-id-3 input.sk-toggleable__control:checked~div.sk-toggleable__content {max-height: 200px;max-width: 100%;overflow: auto;}#sk-container-id-3 input.sk-toggleable__control:checked~label.sk-toggleable__label-arrow:before {content: \"▾\";}#sk-container-id-3 div.sk-estimator input.sk-toggleable__control:checked~label.sk-toggleable__label {background-color: #d4ebff;}#sk-container-id-3 div.sk-label input.sk-toggleable__control:checked~label.sk-toggleable__label {background-color: #d4ebff;}#sk-container-id-3 input.sk-hidden--visually {border: 0;clip: rect(1px 1px 1px 1px);clip: rect(1px, 1px, 1px, 1px);height: 1px;margin: -1px;overflow: hidden;padding: 0;position: absolute;width: 1px;}#sk-container-id-3 div.sk-estimator {font-family: monospace;background-color: #f0f8ff;border: 1px dotted black;border-radius: 0.25em;box-sizing: border-box;margin-bottom: 0.5em;}#sk-container-id-3 div.sk-estimator:hover {background-color: #d4ebff;}#sk-container-id-3 div.sk-parallel-item::after {content: \"\";width: 100%;border-bottom: 1px solid gray;flex-grow: 1;}#sk-container-id-3 div.sk-label:hover label.sk-toggleable__label {background-color: #d4ebff;}#sk-container-id-3 div.sk-serial::before {content: \"\";position: absolute;border-left: 1px solid gray;box-sizing: border-box;top: 0;bottom: 0;left: 50%;z-index: 0;}#sk-container-id-3 div.sk-serial {display: flex;flex-direction: column;align-items: center;background-color: white;padding-right: 0.2em;padding-left: 0.2em;position: relative;}#sk-container-id-3 div.sk-item {position: relative;z-index: 1;}#sk-container-id-3 div.sk-parallel {display: flex;align-items: stretch;justify-content: center;background-color: white;position: relative;}#sk-container-id-3 div.sk-item::before, #sk-container-id-3 div.sk-parallel-item::before {content: \"\";position: absolute;border-left: 1px solid gray;box-sizing: border-box;top: 0;bottom: 0;left: 50%;z-index: -1;}#sk-container-id-3 div.sk-parallel-item {display: flex;flex-direction: column;z-index: 1;position: relative;background-color: white;}#sk-container-id-3 div.sk-parallel-item:first-child::after {align-self: flex-end;width: 50%;}#sk-container-id-3 div.sk-parallel-item:last-child::after {align-self: flex-start;width: 50%;}#sk-container-id-3 div.sk-parallel-item:only-child::after {width: 0;}#sk-container-id-3 div.sk-dashed-wrapped {border: 1px dashed gray;margin: 0 0.4em 0.5em 0.4em;box-sizing: border-box;padding-bottom: 0.4em;background-color: white;}#sk-container-id-3 div.sk-label label {font-family: monospace;font-weight: bold;display: inline-block;line-height: 1.2em;}#sk-container-id-3 div.sk-label-container {text-align: center;}#sk-container-id-3 div.sk-container {/* jupyter's `normalize.less` sets `[hidden] { display: none; }` but bootstrap.min.css set `[hidden] { display: none !important; }` so we also need the `!important` here to be able to override the default hidden behavior on the sphinx rendered scikit-learn.org. See: https://github.com/scikit-learn/scikit-learn/issues/21755 */display: inline-block !important;position: relative;}#sk-container-id-3 div.sk-text-repr-fallback {display: none;}</style><div id=\"sk-container-id-3\" class=\"sk-top-container\"><div class=\"sk-text-repr-fallback\"><pre>GridSearchCV(cv=3, estimator=RandomForestClassifier(), n_jobs=-1,\n",
       "             param_grid={&#x27;bootstrap&#x27;: [True],\n",
       "                         &#x27;max_features&#x27;: array([1, 2, 3, 4, 5]),\n",
       "                         &#x27;n_estimators&#x27;: [500, 1000, 1500], &#x27;oob_score&#x27;: [True],\n",
       "                         &#x27;random_state&#x27;: [1]},\n",
       "             verbose=1)</pre><b>In a Jupyter environment, please rerun this cell to show the HTML representation or trust the notebook. <br />On GitHub, the HTML representation is unable to render, please try loading this page with nbviewer.org.</b></div><div class=\"sk-container\" hidden><div class=\"sk-item sk-dashed-wrapped\"><div class=\"sk-label-container\"><div class=\"sk-label sk-toggleable\"><input class=\"sk-toggleable__control sk-hidden--visually\" id=\"sk-estimator-id-5\" type=\"checkbox\" ><label for=\"sk-estimator-id-5\" class=\"sk-toggleable__label sk-toggleable__label-arrow\">GridSearchCV</label><div class=\"sk-toggleable__content\"><pre>GridSearchCV(cv=3, estimator=RandomForestClassifier(), n_jobs=-1,\n",
       "             param_grid={&#x27;bootstrap&#x27;: [True],\n",
       "                         &#x27;max_features&#x27;: array([1, 2, 3, 4, 5]),\n",
       "                         &#x27;n_estimators&#x27;: [500, 1000, 1500], &#x27;oob_score&#x27;: [True],\n",
       "                         &#x27;random_state&#x27;: [1]},\n",
       "             verbose=1)</pre></div></div></div><div class=\"sk-parallel\"><div class=\"sk-parallel-item\"><div class=\"sk-item\"><div class=\"sk-label-container\"><div class=\"sk-label sk-toggleable\"><input class=\"sk-toggleable__control sk-hidden--visually\" id=\"sk-estimator-id-6\" type=\"checkbox\" ><label for=\"sk-estimator-id-6\" class=\"sk-toggleable__label sk-toggleable__label-arrow\">estimator: RandomForestClassifier</label><div class=\"sk-toggleable__content\"><pre>RandomForestClassifier()</pre></div></div></div><div class=\"sk-serial\"><div class=\"sk-item\"><div class=\"sk-estimator sk-toggleable\"><input class=\"sk-toggleable__control sk-hidden--visually\" id=\"sk-estimator-id-7\" type=\"checkbox\" ><label for=\"sk-estimator-id-7\" class=\"sk-toggleable__label sk-toggleable__label-arrow\">RandomForestClassifier</label><div class=\"sk-toggleable__content\"><pre>RandomForestClassifier()</pre></div></div></div></div></div></div></div></div></div></div>"
      ],
      "text/plain": [
       "GridSearchCV(cv=3, estimator=RandomForestClassifier(), n_jobs=-1,\n",
       "             param_grid={'bootstrap': [True],\n",
       "                         'max_features': array([1, 2, 3, 4, 5]),\n",
       "                         'n_estimators': [500, 1000, 1500], 'oob_score': [True],\n",
       "                         'random_state': [1]},\n",
       "             verbose=1)"
      ]
     },
     "execution_count": 30,
     "metadata": {},
     "output_type": "execute_result"
    }
   ],
   "source": [
    "''' Trainning on First Two Folds '''\n",
    "x_train = pd.concat([first_third, second_third]).drop(['label', 'quality'], axis=1)\n",
    "y_train = pd.concat([first_third, second_third])['label']\n",
    "clf.fit(X_train , y_train)"
   ]
  },
  {
   "cell_type": "code",
   "execution_count": 31,
   "id": "a0205ab3-1fad-4576-b719-c1cc1fa71e5b",
   "metadata": {},
   "outputs": [
    {
     "data": {
      "text/plain": [
       "{'bootstrap': True,\n",
       " 'max_features': 1,\n",
       " 'n_estimators': 1000,\n",
       " 'oob_score': True,\n",
       " 'random_state': 1}"
      ]
     },
     "execution_count": 31,
     "metadata": {},
     "output_type": "execute_result"
    }
   ],
   "source": [
    "clf.best_params_"
   ]
  },
  {
   "cell_type": "markdown",
   "id": "48615341-5c19-460d-89a1-4d8fad61fd6e",
   "metadata": {},
   "source": [
    "### Testing on 3rd Fold"
   ]
  },
  {
   "cell_type": "code",
   "execution_count": 32,
   "id": "28a87bd1-b47f-4412-a36e-2a65cec85641",
   "metadata": {},
   "outputs": [],
   "source": [
    "first_predictions = clf.predict(third_third.drop(['label', 'quality'], axis=1))"
   ]
  },
  {
   "cell_type": "markdown",
   "id": "3b4815b1-e429-4ec4-a29c-e213d105980e",
   "metadata": {},
   "source": [
    "### Metrics"
   ]
  },
  {
   "cell_type": "markdown",
   "id": "2f52459e-4862-45ad-8bd1-f76f4a0baf86",
   "metadata": {},
   "source": [
    "#### Confusion Matrix"
   ]
  },
  {
   "cell_type": "code",
   "execution_count": 33,
   "id": "2a7fafbf-c442-4209-b786-766306518832",
   "metadata": {},
   "outputs": [
    {
     "data": {
      "text/plain": [
       "<sklearn.metrics._plot.confusion_matrix.ConfusionMatrixDisplay at 0x12a1cd750>"
      ]
     },
     "execution_count": 33,
     "metadata": {},
     "output_type": "execute_result"
    },
    {
     "data": {
      "image/png": "[encoded data removed]",
      "text/plain": [
       "<Figure size 640x480 with 2 Axes>"
      ]
     },
     "metadata": {},
     "output_type": "display_data"
    }
   ],
   "source": [
    "cm = confusion_matrix(third_third['label'], first_predictions, labels=clf.classes_)\n",
    "disp = ConfusionMatrixDisplay(confusion_matrix=cm, display_labels=clf.classes_)\n",
    "disp.plot()"
   ]
  },
  {
   "cell_type": "markdown",
   "id": "3bc85a89-8da8-4c0a-9b93-f2efac0f0711",
   "metadata": {},
   "source": [
    "#### Accuracy Score"
   ]
  },
  {
   "cell_type": "code",
   "execution_count": 34,
   "id": "9e5ef853-8610-4811-8867-8e60bfacab34",
   "metadata": {},
   "outputs": [
    {
     "name": "stdout",
     "output_type": "stream",
     "text": [
      "Accuracy Score 0.7672055427251732\n"
     ]
    }
   ],
   "source": [
    "first_accuracy_score = accuracy_score(first_predictions, third_third['label'])\n",
    "print('Accuracy Score', first_accuracy_score)"
   ]
  },
  {
   "cell_type": "markdown",
   "id": "8c00b984-135e-4650-8b21-151e662e5581",
   "metadata": {},
   "source": [
    "#### Precision, Recall, f1-score"
   ]
  },
  {
   "cell_type": "code",
   "execution_count": 35,
   "id": "0ddd821c-c8e7-4dd0-b401-7c0e4c057ac9",
   "metadata": {},
   "outputs": [
    {
     "name": "stdout",
     "output_type": "stream",
     "text": [
      "              precision    recall  f1-score   support\n",
      "\n",
      "   Excellent       0.17      0.04      0.07       425\n",
      "        Good       0.80      0.95      0.87      1730\n",
      "        Poor       0.00      0.00      0.00        10\n",
      "\n",
      "    accuracy                           0.77      2165\n",
      "   macro avg       0.32      0.33      0.31      2165\n",
      "weighted avg       0.67      0.77      0.71      2165\n",
      "\n"
     ]
    }
   ],
   "source": [
    "from sklearn.metrics import classification_report\n",
    "print(classification_report(third_third['label'], first_predictions))"
   ]
  },
  {
   "cell_type": "markdown",
   "id": "2f1b7afb-b118-43d5-aa34-c3fa41bb1c11",
   "metadata": {},
   "source": [
    "We can see that the matrix incorrectly classified 3 samples. All of the misclassifications were False Negatives. This will affect the recall because the classifier is missing there instances of positive samples for 1."
   ]
  },
  {
   "cell_type": "markdown",
   "id": "6b07291f-c421-4a12-b948-1f3c7afb58cb",
   "metadata": {},
   "source": [
    "#### Out of Bag Error"
   ]
  },
  {
   "cell_type": "code",
   "execution_count": 36,
   "id": "ddbb0ba1-25dc-4667-9222-c30947130fd4",
   "metadata": {},
   "outputs": [
    {
     "data": {
      "text/plain": [
       "0.7700831024930748"
      ]
     },
     "execution_count": 36,
     "metadata": {},
     "output_type": "execute_result"
    }
   ],
   "source": [
    "first_oob = clf.best_estimator_.oob_score_\n",
    "first_oob"
   ]
  },
  {
   "cell_type": "markdown",
   "id": "a72e5e8a-3918-48cc-88e5-1f7f8b243fff",
   "metadata": {},
   "source": [
    "#### ROC Curve"
   ]
  },
  {
   "cell_type": "markdown",
   "id": "52b65e14-58ec-4897-9e07-5955c18fb459",
   "metadata": {},
   "source": [
    "### ROC Curve"
   ]
  },
  {
   "cell_type": "code",
   "execution_count": 37,
   "id": "71dea5c8-fa04-498a-a94c-07c23a264e92",
   "metadata": {},
   "outputs": [
    {
     "data": {
      "text/plain": [
       "\"\\nfpr, tpr, thresholds = metrics.roc_curve(third_third['label'], first_predictions)\\nroc_auc = metrics.auc(fpr, tpr)\\nclf_disp = RocCurveDisplay(fpr=fpr, tpr=tpr, roc_auc=roc_auc, estimator_name='Random Forest')\\nclf_disp.plot()\\n\""
      ]
     },
     "execution_count": 37,
     "metadata": {},
     "output_type": "execute_result"
    }
   ],
   "source": [
    "# hard to make sense of fpr tpr with multiclass data\n",
    "'''\n",
    "fpr, tpr, thresholds = metrics.roc_curve(third_third['label'], first_predictions)\n",
    "roc_auc = metrics.auc(fpr, tpr)\n",
    "clf_disp = RocCurveDisplay(fpr=fpr, tpr=tpr, roc_auc=roc_auc, estimator_name='Random Forest')\n",
    "clf_disp.plot()\n",
    "'''"
   ]
  },
  {
   "cell_type": "markdown",
   "id": "7bbeae8b-0523-4a35-8d59-aeb82e4fcb27",
   "metadata": {},
   "source": [
    "## Second Repetition"
   ]
  },
  {
   "cell_type": "markdown",
   "id": "3c66ac90-ec33-4fbf-b786-25f3a968d322",
   "metadata": {},
   "source": [
    "### Trainning on first and third fold"
   ]
  },
  {
   "cell_type": "code",
   "execution_count": 38,
   "id": "bec2eb3b-58b8-48f3-9e67-037390942b0f",
   "metadata": {},
   "outputs": [
    {
     "name": "stdout",
     "output_type": "stream",
     "text": [
      "Fitting 3 folds for each of 15 candidates, totalling 45 fits\n"
     ]
    },
    {
     "data": {
      "text/html": [
       "<style>#sk-container-id-4 {color: black;background-color: white;}#sk-container-id-4 pre{padding: 0;}#sk-container-id-4 div.sk-toggleable {background-color: white;}#sk-container-id-4 label.sk-toggleable__label {cursor: pointer;display: block;width: 100%;margin-bottom: 0;padding: 0.3em;box-sizing: border-box;text-align: center;}#sk-container-id-4 label.sk-toggleable__label-arrow:before {content: \"▸\";float: left;margin-right: 0.25em;color: #696969;}#sk-container-id-4 label.sk-toggleable__label-arrow:hover:before {color: black;}#sk-container-id-4 div.sk-estimator:hover label.sk-toggleable__label-arrow:before {color: black;}#sk-container-id-4 div.sk-toggleable__content {max-height: 0;max-width: 0;overflow: hidden;text-align: left;background-color: #f0f8ff;}#sk-container-id-4 div.sk-toggleable__content pre {margin: 0.2em;color: black;border-radius: 0.25em;background-color: #f0f8ff;}#sk-container-id-4 input.sk-toggleable__control:checked~div.sk-toggleable__content {max-height: 200px;max-width: 100%;overflow: auto;}#sk-container-id-4 input.sk-toggleable__control:checked~label.sk-toggleable__label-arrow:before {content: \"▾\";}#sk-container-id-4 div.sk-estimator input.sk-toggleable__control:checked~label.sk-toggleable__label {background-color: #d4ebff;}#sk-container-id-4 div.sk-label input.sk-toggleable__control:checked~label.sk-toggleable__label {background-color: #d4ebff;}#sk-container-id-4 input.sk-hidden--visually {border: 0;clip: rect(1px 1px 1px 1px);clip: rect(1px, 1px, 1px, 1px);height: 1px;margin: -1px;overflow: hidden;padding: 0;position: absolute;width: 1px;}#sk-container-id-4 div.sk-estimator {font-family: monospace;background-color: #f0f8ff;border: 1px dotted black;border-radius: 0.25em;box-sizing: border-box;margin-bottom: 0.5em;}#sk-container-id-4 div.sk-estimator:hover {background-color: #d4ebff;}#sk-container-id-4 div.sk-parallel-item::after {content: \"\";width: 100%;border-bottom: 1px solid gray;flex-grow: 1;}#sk-container-id-4 div.sk-label:hover label.sk-toggleable__label {background-color: #d4ebff;}#sk-container-id-4 div.sk-serial::before {content: \"\";position: absolute;border-left: 1px solid gray;box-sizing: border-box;top: 0;bottom: 0;left: 50%;z-index: 0;}#sk-container-id-4 div.sk-serial {display: flex;flex-direction: column;align-items: center;background-color: white;padding-right: 0.2em;padding-left: 0.2em;position: relative;}#sk-container-id-4 div.sk-item {position: relative;z-index: 1;}#sk-container-id-4 div.sk-parallel {display: flex;align-items: stretch;justify-content: center;background-color: white;position: relative;}#sk-container-id-4 div.sk-item::before, #sk-container-id-4 div.sk-parallel-item::before {content: \"\";position: absolute;border-left: 1px solid gray;box-sizing: border-box;top: 0;bottom: 0;left: 50%;z-index: -1;}#sk-container-id-4 div.sk-parallel-item {display: flex;flex-direction: column;z-index: 1;position: relative;background-color: white;}#sk-container-id-4 div.sk-parallel-item:first-child::after {align-self: flex-end;width: 50%;}#sk-container-id-4 div.sk-parallel-item:last-child::after {align-self: flex-start;width: 50%;}#sk-container-id-4 div.sk-parallel-item:only-child::after {width: 0;}#sk-container-id-4 div.sk-dashed-wrapped {border: 1px dashed gray;margin: 0 0.4em 0.5em 0.4em;box-sizing: border-box;padding-bottom: 0.4em;background-color: white;}#sk-container-id-4 div.sk-label label {font-family: monospace;font-weight: bold;display: inline-block;line-height: 1.2em;}#sk-container-id-4 div.sk-label-container {text-align: center;}#sk-container-id-4 div.sk-container {/* jupyter's `normalize.less` sets `[hidden] { display: none; }` but bootstrap.min.css set `[hidden] { display: none !important; }` so we also need the `!important` here to be able to override the default hidden behavior on the sphinx rendered scikit-learn.org. See: https://github.com/scikit-learn/scikit-learn/issues/21755 */display: inline-block !important;position: relative;}#sk-container-id-4 div.sk-text-repr-fallback {display: none;}</style><div id=\"sk-container-id-4\" class=\"sk-top-container\"><div class=\"sk-text-repr-fallback\"><pre>GridSearchCV(cv=3, estimator=RandomForestClassifier(), n_jobs=-1,\n",
       "             param_grid={&#x27;bootstrap&#x27;: [True],\n",
       "                         &#x27;max_features&#x27;: array([1, 2, 3, 4, 5]),\n",
       "                         &#x27;n_estimators&#x27;: [500, 1000, 1500], &#x27;oob_score&#x27;: [True],\n",
       "                         &#x27;random_state&#x27;: [1]},\n",
       "             verbose=1)</pre><b>In a Jupyter environment, please rerun this cell to show the HTML representation or trust the notebook. <br />On GitHub, the HTML representation is unable to render, please try loading this page with nbviewer.org.</b></div><div class=\"sk-container\" hidden><div class=\"sk-item sk-dashed-wrapped\"><div class=\"sk-label-container\"><div class=\"sk-label sk-toggleable\"><input class=\"sk-toggleable__control sk-hidden--visually\" id=\"sk-estimator-id-8\" type=\"checkbox\" ><label for=\"sk-estimator-id-8\" class=\"sk-toggleable__label sk-toggleable__label-arrow\">GridSearchCV</label><div class=\"sk-toggleable__content\"><pre>GridSearchCV(cv=3, estimator=RandomForestClassifier(), n_jobs=-1,\n",
       "             param_grid={&#x27;bootstrap&#x27;: [True],\n",
       "                         &#x27;max_features&#x27;: array([1, 2, 3, 4, 5]),\n",
       "                         &#x27;n_estimators&#x27;: [500, 1000, 1500], &#x27;oob_score&#x27;: [True],\n",
       "                         &#x27;random_state&#x27;: [1]},\n",
       "             verbose=1)</pre></div></div></div><div class=\"sk-parallel\"><div class=\"sk-parallel-item\"><div class=\"sk-item\"><div class=\"sk-label-container\"><div class=\"sk-label sk-toggleable\"><input class=\"sk-toggleable__control sk-hidden--visually\" id=\"sk-estimator-id-9\" type=\"checkbox\" ><label for=\"sk-estimator-id-9\" class=\"sk-toggleable__label sk-toggleable__label-arrow\">estimator: RandomForestClassifier</label><div class=\"sk-toggleable__content\"><pre>RandomForestClassifier()</pre></div></div></div><div class=\"sk-serial\"><div class=\"sk-item\"><div class=\"sk-estimator sk-toggleable\"><input class=\"sk-toggleable__control sk-hidden--visually\" id=\"sk-estimator-id-10\" type=\"checkbox\" ><label for=\"sk-estimator-id-10\" class=\"sk-toggleable__label sk-toggleable__label-arrow\">RandomForestClassifier</label><div class=\"sk-toggleable__content\"><pre>RandomForestClassifier()</pre></div></div></div></div></div></div></div></div></div></div>"
      ],
      "text/plain": [
       "GridSearchCV(cv=3, estimator=RandomForestClassifier(), n_jobs=-1,\n",
       "             param_grid={'bootstrap': [True],\n",
       "                         'max_features': array([1, 2, 3, 4, 5]),\n",
       "                         'n_estimators': [500, 1000, 1500], 'oob_score': [True],\n",
       "                         'random_state': [1]},\n",
       "             verbose=1)"
      ]
     },
     "execution_count": 38,
     "metadata": {},
     "output_type": "execute_result"
    }
   ],
   "source": [
    "''' Trainning on First and Third Folds, clf.fit also includes a new grid search for hyperparameters'''\n",
    "x_train = pd.concat([first_third, third_third]).drop(['label', 'quality'], axis=1)\n",
    "y_train = pd.concat([first_third, third_third])['label']\n",
    "clf.fit(x_train, y_train) # fitting again untrains previous fit which is what we want"
   ]
  },
  {
   "cell_type": "code",
   "execution_count": 39,
   "id": "2d6a3b18-3808-4dbb-aecf-6d5f3c8c4926",
   "metadata": {},
   "outputs": [
    {
     "data": {
      "text/plain": [
       "{'bootstrap': True,\n",
       " 'max_features': 5,\n",
       " 'n_estimators': 1500,\n",
       " 'oob_score': True,\n",
       " 'random_state': 1}"
      ]
     },
     "execution_count": 39,
     "metadata": {},
     "output_type": "execute_result"
    }
   ],
   "source": [
    "clf.best_params_"
   ]
  },
  {
   "cell_type": "markdown",
   "id": "0fab6254-311e-4e08-80d5-66af68890e42",
   "metadata": {},
   "source": [
    "### Testing on 2nd Fold"
   ]
  },
  {
   "cell_type": "code",
   "execution_count": 40,
   "id": "3eb57ef8-4afb-4bab-98f3-7005351f6a77",
   "metadata": {},
   "outputs": [],
   "source": [
    "second_predictions = clf.predict(second_third.drop(['label', 'quality'], axis=1))"
   ]
  },
  {
   "cell_type": "markdown",
   "id": "b07ae527-bbca-41bd-8f18-71ea42bcfa81",
   "metadata": {},
   "source": [
    "### Metrics"
   ]
  },
  {
   "cell_type": "markdown",
   "id": "b261e090-1cb6-4db6-9015-875a04cecb67",
   "metadata": {},
   "source": [
    "#### Confusion Matrix"
   ]
  },
  {
   "cell_type": "code",
   "execution_count": 41,
   "id": "7192972d-a4ee-4375-99f5-7ff9b88e80bf",
   "metadata": {},
   "outputs": [
    {
     "data": {
      "text/plain": [
       "<sklearn.metrics._plot.confusion_matrix.ConfusionMatrixDisplay at 0x127efe5f0>"
      ]
     },
     "execution_count": 41,
     "metadata": {},
     "output_type": "execute_result"
    },
    {
     "data": {
      "image/png": "[encoded data removed]",
      "text/plain": [
       "<Figure size 640x480 with 2 Axes>"
      ]
     },
     "metadata": {},
     "output_type": "display_data"
    }
   ],
   "source": [
    "cm = confusion_matrix(second_third['label'], second_predictions, labels=clf.classes_)\n",
    "disp = ConfusionMatrixDisplay(confusion_matrix=cm, display_labels=clf.classes_)\n",
    "disp.plot()"
   ]
  },
  {
   "cell_type": "markdown",
   "id": "b13a5dc0-8154-461a-a566-80734ce31781",
   "metadata": {},
   "source": [
    "#### Accuracy Score"
   ]
  },
  {
   "cell_type": "code",
   "execution_count": 42,
   "id": "2887e1cb-271b-4679-a64c-c7a3b4e2a965",
   "metadata": {},
   "outputs": [
    {
     "name": "stdout",
     "output_type": "stream",
     "text": [
      "accuracy_score 0.8785780240073869\n"
     ]
    }
   ],
   "source": [
    "second_accuracy_score = accuracy_score(second_predictions, second_third['label'])\n",
    "print('accuracy_score', second_accuracy_score)"
   ]
  },
  {
   "cell_type": "markdown",
   "id": "453598f0-706d-46ed-bd51-e2936fdf3e85",
   "metadata": {},
   "source": [
    "#### Precision, Recall, f1-score"
   ]
  },
  {
   "cell_type": "code",
   "execution_count": 43,
   "id": "4ca85163-0463-45e2-843b-5f9063bafebc",
   "metadata": {},
   "outputs": [
    {
     "name": "stdout",
     "output_type": "stream",
     "text": [
      "              precision    recall  f1-score   support\n",
      "\n",
      "   Excellent       0.77      0.58      0.66       426\n",
      "        Good       0.90      0.96      0.93      1730\n",
      "        Poor       0.00      0.00      0.00        10\n",
      "\n",
      "    accuracy                           0.88      2166\n",
      "   macro avg       0.56      0.51      0.53      2166\n",
      "weighted avg       0.87      0.88      0.87      2166\n",
      "\n"
     ]
    },
    {
     "name": "stderr",
     "output_type": "stream",
     "text": [
      "/usr/local/lib/python3.10/site-packages/sklearn/metrics/_classification.py:1334: UndefinedMetricWarning: Precision and F-score are ill-defined and being set to 0.0 in labels with no predicted samples. Use `zero_division` parameter to control this behavior.\n",
      "  _warn_prf(average, modifier, msg_start, len(result))\n",
      "/usr/local/lib/python3.10/site-packages/sklearn/metrics/_classification.py:1334: UndefinedMetricWarning: Precision and F-score are ill-defined and being set to 0.0 in labels with no predicted samples. Use `zero_division` parameter to control this behavior.\n",
      "  _warn_prf(average, modifier, msg_start, len(result))\n",
      "/usr/local/lib/python3.10/site-packages/sklearn/metrics/_classification.py:1334: UndefinedMetricWarning: Precision and F-score are ill-defined and being set to 0.0 in labels with no predicted samples. Use `zero_division` parameter to control this behavior.\n",
      "  _warn_prf(average, modifier, msg_start, len(result))\n"
     ]
    }
   ],
   "source": [
    "from sklearn.metrics import classification_report\n",
    "print(classification_report(second_third['label'], second_predictions))"
   ]
  },
  {
   "cell_type": "markdown",
   "id": "0de96e2b-8e6b-44e8-a7b1-0161444f14d7",
   "metadata": {},
   "source": [
    "We can see that the matrix incorrectly classified 6 samples. All of the misclassifications were False Negatives. This will affect the recall because the classifier is missing there instances of positive samples for 1."
   ]
  },
  {
   "cell_type": "markdown",
   "id": "3849c1fc-bd0e-4da2-ae8d-7b3b02154e4b",
   "metadata": {},
   "source": [
    "#### Out of Bag Error"
   ]
  },
  {
   "cell_type": "code",
   "execution_count": 44,
   "id": "4aa9a818-b2e4-44f6-acd9-9a0abb781cdd",
   "metadata": {},
   "outputs": [
    {
     "name": "stdout",
     "output_type": "stream",
     "text": [
      "The oob score is: 0.8787808820133918\n",
      "The OOB error is: 0.12121911798660823\n"
     ]
    }
   ],
   "source": [
    "second_oob = clf.best_estimator_.oob_score_\n",
    "second_oob_eeror = 1 - second_oob\n",
    "print('The oob score is:', second_oob)\n",
    "print('The OOB error is:', second_oob_eeror)"
   ]
  },
  {
   "cell_type": "markdown",
   "id": "0071b8c0-6fd9-4936-bfd2-11e186484637",
   "metadata": {},
   "source": [
    "### ROC Curve"
   ]
  },
  {
   "cell_type": "code",
   "execution_count": 45,
   "id": "391678c1-4756-4e7f-8933-d8acfdbce2c7",
   "metadata": {},
   "outputs": [
    {
     "data": {
      "text/plain": [
       "\"\\nfpr, tpr, thresholds = metrics.roc_curve(second_third['label'], second_predictions)\\nroc_auc = metrics.auc(fpr, tpr)\\nclf_disp = RocCurveDisplay(fpr=fpr, tpr=tpr, roc_auc=roc_auc, estimator_name='Random Forest')\\nclf_disp.plot()\\n\""
      ]
     },
     "execution_count": 45,
     "metadata": {},
     "output_type": "execute_result"
    }
   ],
   "source": [
    "'''\n",
    "fpr, tpr, thresholds = metrics.roc_curve(second_third['label'], second_predictions)\n",
    "roc_auc = metrics.auc(fpr, tpr)\n",
    "clf_disp = RocCurveDisplay(fpr=fpr, tpr=tpr, roc_auc=roc_auc, estimator_name='Random Forest')\n",
    "clf_disp.plot()\n",
    "'''"
   ]
  },
  {
   "cell_type": "markdown",
   "id": "ea0259bb-5b76-4271-8aad-fa6dd9a83f39",
   "metadata": {},
   "source": [
    "## Third Repetition"
   ]
  },
  {
   "cell_type": "markdown",
   "id": "7cc56bf6-ebd2-47e9-885f-ccae7e3b08c8",
   "metadata": {},
   "source": [
    "### Trainning on second and third fold"
   ]
  },
  {
   "cell_type": "code",
   "execution_count": 46,
   "id": "ceb9c849-f778-48a1-ad09-aac4f0f1518a",
   "metadata": {},
   "outputs": [
    {
     "name": "stdout",
     "output_type": "stream",
     "text": [
      "Fitting 3 folds for each of 15 candidates, totalling 45 fits\n"
     ]
    },
    {
     "data": {
      "text/html": [
       "<style>#sk-container-id-5 {color: black;background-color: white;}#sk-container-id-5 pre{padding: 0;}#sk-container-id-5 div.sk-toggleable {background-color: white;}#sk-container-id-5 label.sk-toggleable__label {cursor: pointer;display: block;width: 100%;margin-bottom: 0;padding: 0.3em;box-sizing: border-box;text-align: center;}#sk-container-id-5 label.sk-toggleable__label-arrow:before {content: \"▸\";float: left;margin-right: 0.25em;color: #696969;}#sk-container-id-5 label.sk-toggleable__label-arrow:hover:before {color: black;}#sk-container-id-5 div.sk-estimator:hover label.sk-toggleable__label-arrow:before {color: black;}#sk-container-id-5 div.sk-toggleable__content {max-height: 0;max-width: 0;overflow: hidden;text-align: left;background-color: #f0f8ff;}#sk-container-id-5 div.sk-toggleable__content pre {margin: 0.2em;color: black;border-radius: 0.25em;background-color: #f0f8ff;}#sk-container-id-5 input.sk-toggleable__control:checked~div.sk-toggleable__content {max-height: 200px;max-width: 100%;overflow: auto;}#sk-container-id-5 input.sk-toggleable__control:checked~label.sk-toggleable__label-arrow:before {content: \"▾\";}#sk-container-id-5 div.sk-estimator input.sk-toggleable__control:checked~label.sk-toggleable__label {background-color: #d4ebff;}#sk-container-id-5 div.sk-label input.sk-toggleable__control:checked~label.sk-toggleable__label {background-color: #d4ebff;}#sk-container-id-5 input.sk-hidden--visually {border: 0;clip: rect(1px 1px 1px 1px);clip: rect(1px, 1px, 1px, 1px);height: 1px;margin: -1px;overflow: hidden;padding: 0;position: absolute;width: 1px;}#sk-container-id-5 div.sk-estimator {font-family: monospace;background-color: #f0f8ff;border: 1px dotted black;border-radius: 0.25em;box-sizing: border-box;margin-bottom: 0.5em;}#sk-container-id-5 div.sk-estimator:hover {background-color: #d4ebff;}#sk-container-id-5 div.sk-parallel-item::after {content: \"\";width: 100%;border-bottom: 1px solid gray;flex-grow: 1;}#sk-container-id-5 div.sk-label:hover label.sk-toggleable__label {background-color: #d4ebff;}#sk-container-id-5 div.sk-serial::before {content: \"\";position: absolute;border-left: 1px solid gray;box-sizing: border-box;top: 0;bottom: 0;left: 50%;z-index: 0;}#sk-container-id-5 div.sk-serial {display: flex;flex-direction: column;align-items: center;background-color: white;padding-right: 0.2em;padding-left: 0.2em;position: relative;}#sk-container-id-5 div.sk-item {position: relative;z-index: 1;}#sk-container-id-5 div.sk-parallel {display: flex;align-items: stretch;justify-content: center;background-color: white;position: relative;}#sk-container-id-5 div.sk-item::before, #sk-container-id-5 div.sk-parallel-item::before {content: \"\";position: absolute;border-left: 1px solid gray;box-sizing: border-box;top: 0;bottom: 0;left: 50%;z-index: -1;}#sk-container-id-5 div.sk-parallel-item {display: flex;flex-direction: column;z-index: 1;position: relative;background-color: white;}#sk-container-id-5 div.sk-parallel-item:first-child::after {align-self: flex-end;width: 50%;}#sk-container-id-5 div.sk-parallel-item:last-child::after {align-self: flex-start;width: 50%;}#sk-container-id-5 div.sk-parallel-item:only-child::after {width: 0;}#sk-container-id-5 div.sk-dashed-wrapped {border: 1px dashed gray;margin: 0 0.4em 0.5em 0.4em;box-sizing: border-box;padding-bottom: 0.4em;background-color: white;}#sk-container-id-5 div.sk-label label {font-family: monospace;font-weight: bold;display: inline-block;line-height: 1.2em;}#sk-container-id-5 div.sk-label-container {text-align: center;}#sk-container-id-5 div.sk-container {/* jupyter's `normalize.less` sets `[hidden] { display: none; }` but bootstrap.min.css set `[hidden] { display: none !important; }` so we also need the `!important` here to be able to override the default hidden behavior on the sphinx rendered scikit-learn.org. See: https://github.com/scikit-learn/scikit-learn/issues/21755 */display: inline-block !important;position: relative;}#sk-container-id-5 div.sk-text-repr-fallback {display: none;}</style><div id=\"sk-container-id-5\" class=\"sk-top-container\"><div class=\"sk-text-repr-fallback\"><pre>GridSearchCV(cv=3, estimator=RandomForestClassifier(), n_jobs=-1,\n",
       "             param_grid={&#x27;bootstrap&#x27;: [True],\n",
       "                         &#x27;max_features&#x27;: array([1, 2, 3, 4, 5]),\n",
       "                         &#x27;n_estimators&#x27;: [500, 1000, 1500], &#x27;oob_score&#x27;: [True],\n",
       "                         &#x27;random_state&#x27;: [1]},\n",
       "             verbose=1)</pre><b>In a Jupyter environment, please rerun this cell to show the HTML representation or trust the notebook. <br />On GitHub, the HTML representation is unable to render, please try loading this page with nbviewer.org.</b></div><div class=\"sk-container\" hidden><div class=\"sk-item sk-dashed-wrapped\"><div class=\"sk-label-container\"><div class=\"sk-label sk-toggleable\"><input class=\"sk-toggleable__control sk-hidden--visually\" id=\"sk-estimator-id-11\" type=\"checkbox\" ><label for=\"sk-estimator-id-11\" class=\"sk-toggleable__label sk-toggleable__label-arrow\">GridSearchCV</label><div class=\"sk-toggleable__content\"><pre>GridSearchCV(cv=3, estimator=RandomForestClassifier(), n_jobs=-1,\n",
       "             param_grid={&#x27;bootstrap&#x27;: [True],\n",
       "                         &#x27;max_features&#x27;: array([1, 2, 3, 4, 5]),\n",
       "                         &#x27;n_estimators&#x27;: [500, 1000, 1500], &#x27;oob_score&#x27;: [True],\n",
       "                         &#x27;random_state&#x27;: [1]},\n",
       "             verbose=1)</pre></div></div></div><div class=\"sk-parallel\"><div class=\"sk-parallel-item\"><div class=\"sk-item\"><div class=\"sk-label-container\"><div class=\"sk-label sk-toggleable\"><input class=\"sk-toggleable__control sk-hidden--visually\" id=\"sk-estimator-id-12\" type=\"checkbox\" ><label for=\"sk-estimator-id-12\" class=\"sk-toggleable__label sk-toggleable__label-arrow\">estimator: RandomForestClassifier</label><div class=\"sk-toggleable__content\"><pre>RandomForestClassifier()</pre></div></div></div><div class=\"sk-serial\"><div class=\"sk-item\"><div class=\"sk-estimator sk-toggleable\"><input class=\"sk-toggleable__control sk-hidden--visually\" id=\"sk-estimator-id-13\" type=\"checkbox\" ><label for=\"sk-estimator-id-13\" class=\"sk-toggleable__label sk-toggleable__label-arrow\">RandomForestClassifier</label><div class=\"sk-toggleable__content\"><pre>RandomForestClassifier()</pre></div></div></div></div></div></div></div></div></div></div>"
      ],
      "text/plain": [
       "GridSearchCV(cv=3, estimator=RandomForestClassifier(), n_jobs=-1,\n",
       "             param_grid={'bootstrap': [True],\n",
       "                         'max_features': array([1, 2, 3, 4, 5]),\n",
       "                         'n_estimators': [500, 1000, 1500], 'oob_score': [True],\n",
       "                         'random_state': [1]},\n",
       "             verbose=1)"
      ]
     },
     "execution_count": 46,
     "metadata": {},
     "output_type": "execute_result"
    }
   ],
   "source": [
    "''' Trainning on last Two Folds '''\n",
    "x_train = pd.concat([second_third, third_third]).drop(['label', 'quality'], axis=1)\n",
    "y_train = pd.concat([second_third, third_third])['label']\n",
    "clf.fit(x_train , y_train)"
   ]
  },
  {
   "cell_type": "code",
   "execution_count": 47,
   "id": "90d4f3cb-0334-4dc9-b579-0872ed1cd898",
   "metadata": {},
   "outputs": [
    {
     "data": {
      "text/plain": [
       "{'bootstrap': True,\n",
       " 'max_features': 2,\n",
       " 'n_estimators': 500,\n",
       " 'oob_score': True,\n",
       " 'random_state': 1}"
      ]
     },
     "execution_count": 47,
     "metadata": {},
     "output_type": "execute_result"
    }
   ],
   "source": [
    "clf.best_params_"
   ]
  },
  {
   "cell_type": "markdown",
   "id": "f7b90fd0-029d-481e-bd37-d1d442d769df",
   "metadata": {},
   "source": [
    "### Testing on 1st Fold"
   ]
  },
  {
   "cell_type": "code",
   "execution_count": 48,
   "id": "b2dbd692-82f2-4c7a-a15f-1ad5578e40a7",
   "metadata": {},
   "outputs": [],
   "source": [
    "third_predictions = clf.predict(first_third.drop(['label', 'quality'], axis=1))"
   ]
  },
  {
   "cell_type": "markdown",
   "id": "6ad05b73-bded-466f-9f4d-bd64bbbbbd3b",
   "metadata": {},
   "source": [
    "### Metrics"
   ]
  },
  {
   "cell_type": "markdown",
   "id": "e698680c-c2c1-4f1a-997c-e6c307b5f781",
   "metadata": {},
   "source": [
    "#### Confusion Matrix"
   ]
  },
  {
   "cell_type": "code",
   "execution_count": 49,
   "id": "4255a283-1b94-4ccf-b70b-2bfb14a0c66b",
   "metadata": {},
   "outputs": [
    {
     "data": {
      "text/plain": [
       "<sklearn.metrics._plot.confusion_matrix.ConfusionMatrixDisplay at 0x12a365840>"
      ]
     },
     "execution_count": 49,
     "metadata": {},
     "output_type": "execute_result"
    },
    {
     "data": {
      "image/png": "[encoded data removed]",
      "text/plain": [
       "<Figure size 640x480 with 2 Axes>"
      ]
     },
     "metadata": {},
     "output_type": "display_data"
    }
   ],
   "source": [
    "cm = confusion_matrix(first_third['label'], third_predictions, labels=clf.classes_)\n",
    "disp = ConfusionMatrixDisplay(confusion_matrix=cm, display_labels=clf.classes_)\n",
    "disp.plot()"
   ]
  },
  {
   "cell_type": "markdown",
   "id": "80e22228-dc7e-47d0-870b-3beb2eadf34c",
   "metadata": {},
   "source": [
    "#### Accuracy Score"
   ]
  },
  {
   "cell_type": "code",
   "execution_count": 50,
   "id": "6a363ecb-1681-4e25-861e-f9bdd089f115",
   "metadata": {},
   "outputs": [
    {
     "name": "stdout",
     "output_type": "stream",
     "text": [
      "Accuracy Score 0.8896583564173592\n"
     ]
    }
   ],
   "source": [
    "third_accuracy_score = accuracy_score(third_predictions, first_third['label'])\n",
    "print('Accuracy Score', third_accuracy_score)"
   ]
  },
  {
   "cell_type": "markdown",
   "id": "60b99135-43d7-4a55-a292-77ab225e729f",
   "metadata": {},
   "source": [
    "#### Precision, Recall, f1-score"
   ]
  },
  {
   "cell_type": "code",
   "execution_count": 51,
   "id": "c63d2459-c5b8-46a6-bf5d-50eaf7bc3111",
   "metadata": {},
   "outputs": [
    {
     "name": "stdout",
     "output_type": "stream",
     "text": [
      "              precision    recall  f1-score   support\n",
      "\n",
      "   Excellent       0.85      0.56      0.68       426\n",
      "        Good       0.90      0.98      0.93      1730\n",
      "        Poor       0.00      0.00      0.00        10\n",
      "\n",
      "    accuracy                           0.89      2166\n",
      "   macro avg       0.58      0.51      0.54      2166\n",
      "weighted avg       0.88      0.89      0.88      2166\n",
      "\n"
     ]
    }
   ],
   "source": [
    "from sklearn.metrics import classification_report\n",
    "print(classification_report(first_third['label'], third_predictions, zero_division=0))"
   ]
  },
  {
   "cell_type": "markdown",
   "id": "ba68c5aa-cba4-4f86-9409-dd3881eecf49",
   "metadata": {},
   "source": [
    "We can see that the matrix incorrectly classified 6 samples. All of the misclassifications were False Negatives. This will affect the recall because the classifier is missing there instances of positive samples for 1."
   ]
  },
  {
   "cell_type": "code",
   "execution_count": 52,
   "id": "9632f1ee-cc08-4cfe-855b-638e3a1d83a0",
   "metadata": {},
   "outputs": [
    {
     "name": "stdout",
     "output_type": "stream",
     "text": [
      "The OOB score is: 0.8773955206649734\n",
      "The OOB Error is :, 0.1226044793350266\n"
     ]
    }
   ],
   "source": [
    "third_oob = clf.best_estimator_.oob_score_\n",
    "print('The OOB score is:', third_oob)\n",
    "print('The OOB Error is :,', 1 - third_oob)"
   ]
  },
  {
   "cell_type": "markdown",
   "id": "d936f932-f767-484f-ae6f-117807250f39",
   "metadata": {},
   "source": [
    "### ROC Curve"
   ]
  },
  {
   "cell_type": "code",
   "execution_count": 53,
   "id": "8b168aad-075d-415f-af26-4d97771db0c3",
   "metadata": {},
   "outputs": [
    {
     "data": {
      "text/plain": [
       "\"\\nfpr, tpr, thresholds = metrics.roc_curve(first_third['label'], third_predictions)\\nroc_auc = metrics.auc(fpr, tpr)\\nclf_disp = RocCurveDisplay(fpr=fpr, tpr=tpr, roc_auc=roc_auc, estimator_name='Random Forest')\\nclf_disp.plot()\\n\""
      ]
     },
     "execution_count": 53,
     "metadata": {},
     "output_type": "execute_result"
    }
   ],
   "source": [
    "'''\n",
    "fpr, tpr, thresholds = metrics.roc_curve(first_third['label'], third_predictions)\n",
    "roc_auc = metrics.auc(fpr, tpr)\n",
    "clf_disp = RocCurveDisplay(fpr=fpr, tpr=tpr, roc_auc=roc_auc, estimator_name='Random Forest')\n",
    "clf_disp.plot()\n",
    "'''"
   ]
  },
  {
   "cell_type": "markdown",
   "id": "696c16a4-1bfe-40b4-bf2d-7ea5868ddb1f",
   "metadata": {},
   "source": [
    "## Metrics of all Three folds"
   ]
  },
  {
   "cell_type": "markdown",
   "id": "b0c9fd4b-d443-45d1-8ba7-56ec82a0d99b",
   "metadata": {},
   "source": [
    "### Average Accuracy Score"
   ]
  },
  {
   "cell_type": "code",
   "execution_count": 54,
   "id": "94b7b2bb-a546-4614-902d-4ab10db40d0f",
   "metadata": {},
   "outputs": [
    {
     "name": "stdout",
     "output_type": "stream",
     "text": [
      "Average Accuracy 0.8451473077166399\n"
     ]
    }
   ],
   "source": [
    "average_accuracy = (first_accuracy_score + second_accuracy_score + third_accuracy_score)/3\n",
    "print('Average Accuracy', average_accuracy)"
   ]
  },
  {
   "cell_type": "markdown",
   "id": "202b0752-1371-4398-b67d-f69355660169",
   "metadata": {},
   "source": [
    "### Average OOB Score vs No CV OOB Score"
   ]
  },
  {
   "cell_type": "code",
   "execution_count": 55,
   "id": "af0dca34-854d-4df3-9c29-c8b8bbdf43d0",
   "metadata": {},
   "outputs": [
    {
     "name": "stdout",
     "output_type": "stream",
     "text": [
      "Average oob of all 3 folds: 0.8420865017238133\n",
      "Average oob when trained on entire dataset: 0.8838259441707718\n",
      "Wow! They are very similar! This shows that RF has built in CV\n"
     ]
    }
   ],
   "source": [
    "average_oob = (first_oob + second_oob + third_oob)/3\n",
    "print('Average oob of all 3 folds:', average_oob)\n",
    "print('Average oob when trained on entire dataset:', no_cv_oob)\n",
    "print('Wow! They are very similar! This shows that RF has built in CV')"
   ]
  },
  {
   "cell_type": "markdown",
   "id": "1aa12fa7-fa40-44b8-b147-f0f5d478a622",
   "metadata": {},
   "source": [
    "# Using Best Trained Random Forest"
   ]
  },
  {
   "cell_type": "markdown",
   "id": "8de23eb0-e6b3-4292-a432-4988e7c63e00",
   "metadata": {},
   "source": [
    "I will use the OOB to select the best trained RF out of the three"
   ]
  },
  {
   "cell_type": "code",
   "execution_count": 56,
   "id": "2d18206c-a04a-4113-88f2-19dc46be1046",
   "metadata": {},
   "outputs": [
    {
     "name": "stdout",
     "output_type": "stream",
     "text": [
      "first_oob, 0.7700831024930748\n",
      "second_oob, 0.8787808820133918\n",
      "third_oob, 0.8773955206649734\n",
      "Looks like third RF has best OOB so we will select that one to do a runtime test and feature ranking\n"
     ]
    }
   ],
   "source": [
    "print('first_oob,', first_oob)\n",
    "print('second_oob,', second_oob)\n",
    "print('third_oob,', third_oob)\n",
    "print('Looks like third RF has best OOB so we will select that one \\\n",
    "to do a runtime test and feature ranking')\n",
    "best_oob = max(first_oob, second_oob, third_oob)"
   ]
  },
  {
   "cell_type": "markdown",
   "id": "13424825-6094-49ec-9586-8bc2bd309363",
   "metadata": {},
   "source": [
    "## Best Parameters for the Best RF"
   ]
  },
  {
   "cell_type": "code",
   "execution_count": 57,
   "id": "5e88d8e0-be77-4bbb-a5e5-9071d4a0a688",
   "metadata": {},
   "outputs": [
    {
     "data": {
      "text/plain": [
       "{'bootstrap': True,\n",
       " 'max_features': 2,\n",
       " 'n_estimators': 500,\n",
       " 'oob_score': True,\n",
       " 'random_state': 1}"
      ]
     },
     "execution_count": 57,
     "metadata": {},
     "output_type": "execute_result"
    }
   ],
   "source": [
    "clf.best_params_"
   ]
  },
  {
   "cell_type": "markdown",
   "id": "9639aabe-e806-4752-8b60-c1f5b02155af",
   "metadata": {},
   "source": [
    "### Cut Off (I am keeping it at 0.5)\n",
    "- Change the cutoff from anyhwere to 0 and 1\n",
    "- The model should be already trained and is the variable 'model'\n",
    "- The default value is 0.5"
   ]
  },
  {
   "cell_type": "code",
   "execution_count": 58,
   "id": "4f71d02d-922d-4c12-92b2-2ef34c406742",
   "metadata": {},
   "outputs": [],
   "source": [
    "cutoff = 0.5\n",
    "y_pred_threshold = (clf.predict_proba(X_train)[:, 1] > cutoff).astype('float')\n",
    "# Confusion Matrix of the results with change in cutoff\n",
    "#confusion_matrix(y_test, y_pred_threshold)"
   ]
  },
  {
   "cell_type": "markdown",
   "id": "0fdc9ce6-701e-4f28-9f65-225e0c94f4e4",
   "metadata": {},
   "source": [
    "### Taking a single positive and negative sample"
   ]
  },
  {
   "cell_type": "markdown",
   "id": "6591be62-8197-4dac-8178-e9f9f5a709dd",
   "metadata": {},
   "source": [
    "## Negative Sample"
   ]
  },
  {
   "cell_type": "code",
   "execution_count": 59,
   "id": "2da12f9d-e240-4002-b39e-6b143fe2e7f2",
   "metadata": {},
   "outputs": [],
   "source": [
    "index = 0 # index of sample to predict\n",
    "single_sample = [X_test.iloc[index].to_numpy()]"
   ]
  },
  {
   "cell_type": "code",
   "execution_count": 60,
   "id": "f59ebe00-bc6d-4790-8d8c-f9612939a8c2",
   "metadata": {},
   "outputs": [
    {
     "name": "stdout",
     "output_type": "stream",
     "text": [
      "CPU times: user 54 ms, sys: 3.09 ms, total: 57.1 ms\n",
      "Wall time: 69.5 ms\n"
     ]
    }
   ],
   "source": [
    "%%time\n",
    "with warnings.catch_warnings(record=True):\n",
    "    single_predict = clf.predict(single_sample)"
   ]
  },
  {
   "cell_type": "code",
   "execution_count": 61,
   "id": "c0dac1e9-1c0c-4b25-bdee-d46d453933d9",
   "metadata": {},
   "outputs": [
    {
     "name": "stdout",
     "output_type": "stream",
     "text": [
      "predicted: Good  actual Good\n"
     ]
    }
   ],
   "source": [
    "print('predicted:', single_predict[0], ' actual', y_train.iloc[index])"
   ]
  },
  {
   "cell_type": "markdown",
   "id": "68701045-f542-4029-8cb7-e9e3e0a28474",
   "metadata": {},
   "source": [
    "## Positive Sample"
   ]
  },
  {
   "cell_type": "code",
   "execution_count": 63,
   "id": "ebb1ffd3-2bfb-421c-9e0a-1684892686c1",
   "metadata": {},
   "outputs": [],
   "source": [
    "index = 11# index of sample to predict\n",
    "single_sample = [X_test.iloc[index].to_numpy()]"
   ]
  },
  {
   "cell_type": "code",
   "execution_count": 64,
   "id": "f96be63b-4a33-4d04-b614-71680a7bc982",
   "metadata": {},
   "outputs": [
    {
     "name": "stdout",
     "output_type": "stream",
     "text": [
      "CPU times: user 52.4 ms, sys: 7.93 ms, total: 60.3 ms\n",
      "Wall time: 77.9 ms\n"
     ]
    }
   ],
   "source": [
    "%%time\n",
    "with warnings.catch_warnings(record=True):\n",
    "    single_predict = clf.predict(single_sample)"
   ]
  },
  {
   "cell_type": "code",
   "execution_count": 65,
   "id": "9883b9d7-c7a9-4a1d-9d57-ecc3ecb3f791",
   "metadata": {
    "tags": []
   },
   "outputs": [
    {
     "name": "stdout",
     "output_type": "stream",
     "text": [
      "predicted: Good  actual Excellent\n"
     ]
    }
   ],
   "source": [
    "print('predicted:', single_predict[0], ' actual', first_third['label'].iloc[index])"
   ]
  },
  {
   "cell_type": "markdown",
   "id": "9c0799c1-cf6d-4a0f-bd83-26b6cc50cc93",
   "metadata": {},
   "source": [
    "## Feature Ranking"
   ]
  },
  {
   "cell_type": "code",
   "execution_count": 66,
   "id": "a310d225-83c4-42ea-b51b-9b47c8f99f17",
   "metadata": {},
   "outputs": [],
   "source": [
    "''' First extracting feature rankings and standardizing '''\n",
    "# Standardize Importances\n",
    "#std = np.std([tree.feature_importances_ for tree in model.estimators_], axis=0)\n",
    "std = clf.best_estimator_.feature_importances_\n",
    "feature_names = list(x_train.columns)\n",
    "features_dict = {key: val for key, val in zip(feature_names, std)}\n",
    "feature_rankings = {k: v for k, v in sorted(features_dict.items(), key=lambda item: item[1], reverse=True)}\n",
    "feature_rankings_list = list(feature_rankings.items())"
   ]
  },
  {
   "cell_type": "markdown",
   "id": "0fdbf5bb-0831-4315-b559-4980ab76ad2f",
   "metadata": {},
   "source": [
    "## Plotting the Feature Ranking of top 10"
   ]
  },
  {
   "cell_type": "code",
   "execution_count": 67,
   "id": "31dead64-cda5-4a96-97e3-64878eb07e88",
   "metadata": {},
   "outputs": [
    {
     "data": {
      "image/png": "[encoded data removed]",
      "text/plain": [
       "<Figure size 1000x500 with 1 Axes>"
      ]
     },
     "metadata": {},
     "output_type": "display_data"
    }
   ],
   "source": [
    "import matplotlib.pyplot as plt\n",
    "\n",
    "# number of features to compare\n",
    "\n",
    "n = 10\n",
    "target_features = feature_rankings_list[:n]\n",
    "feature_names = [tup[0] for tup in target_features]\n",
    "feature_values = [tup[1] for tup in target_features]\n",
    "\n",
    "fig = plt.figure(figsize = (10, 5))\n",
    "\n",
    "plt.xticks(rotation=45, ha='right')\n",
    "\n",
    "# creating the bar plot\n",
    "plt.bar(feature_names, feature_values, color ='maroon',\n",
    "        width = 0.4)\n",
    "\n",
    "plt.xlabel('Feature')\n",
    "plt.ylabel('Rank Normalized [0, 1]')\n",
    "plt.title(f'Feature Ranking first {n}')\n",
    "\n",
    "plt.show()\n",
    "           "
   ]
  },
  {
   "cell_type": "markdown",
   "id": "a2c3d009-7bb5-4386-bfb0-cf431faa38ef",
   "metadata": {},
   "source": [
    "# References\n",
    "\n",
    "https://towardsdatascience.com/gridsearchcv-for-beginners-db48a90114ee\n",
    "https://pandas.pydata.org/docs/reference/api/pandas.DataFrame.sample.html\n",
    "https://pandas.pydata.org/docs/reference/api/pandas.DataFrame.groupby.html\n",
    "https://scikit-learn.org/stable/modules/model_evaluation.html#scoring-parameter\n",
    "https://scikit-learn.org/stable/modules/generated/sklearn.model_selection.GridSearchCV.html\n",
    "https://scikit-learn.org/stable/modules/generated/sklearn.ensemble.RandomForestClassifier.html\n",
    "https://scikit-learn.org/stable/modules/generated/sklearn.model_selection.StratifiedKFold.html#sklearn.model_selection.StratifiedKFold"
   ]
  }
 ],
 "metadata": {
  "kernelspec": {
   "display_name": "Python 3 (ipykernel)",
   "language": "python",
   "name": "python3"
  },
  "language_info": {
   "codemirror_mode": {
    "name": "ipython",
    "version": 3
   },
   "file_extension": ".py",
   "mimetype": "text/x-python",
   "name": "python",
   "nbconvert_exporter": "python",
   "pygments_lexer": "ipython3",
   "version": "3.10.8"
  }
 },
 "nbformat": 4,
 "nbformat_minor": 5
}
