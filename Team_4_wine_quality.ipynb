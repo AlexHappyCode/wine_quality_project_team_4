{
  "nbformat": 4,
  "nbformat_minor": 0,
  "metadata": {
    "colab": {
      "provenance": [],
      "authorship_tag": "ABX9TyM3UVV0+nyJ+rGLgkldgSa9",
      "include_colab_link": true
    },
    "kernelspec": {
      "name": "python3",
      "display_name": "Python 3"
    },
    "language_info": {
      "name": "python"
    }
  },
  "cells": [
    {
      "cell_type": "markdown",
      "metadata": {
        "id": "view-in-github",
        "colab_type": "text"
      },
      "source": [
        "<a href=\"https://colab.research.google.com/github/AlexHappyCode/wine_quality_project_team_4/blob/main/Team_4_wine_quality.ipynb\" target=\"_parent\"><img src=\"https://colab.research.google.com/assets/colab-badge.svg\" alt=\"Open In Colab\"/></a>"
      ]
    },
    {
      "cell_type": "markdown",
      "source": [
        "# Wine Quality\n",
        "### Team 4\n",
        "\n",
        "https://archive.ics.uci.edu/ml/datasets/Wine+Quality"
      ],
      "metadata": {
        "id": "g5C4lwVBCd0m"
      }
    },
    {
      "cell_type": "code",
      "source": [],
      "metadata": {
        "id": "UI0n51JyGEK2"
      },
      "execution_count": null,
      "outputs": []
    },
    {
      "cell_type": "markdown",
      "source": [
        "# New Section"
      ],
      "metadata": {
        "id": "git9I9ezNZ0N"
      }
    },
    {
      "cell_type": "code",
      "source": [],
      "metadata": {
        "id": "OQLEdXeDGBI3"
      },
      "execution_count": null,
      "outputs": []
    }
  ]
}