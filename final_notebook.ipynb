{
 "cells": [
  {
   "cell_type": "markdown",
   "id": "25b01deb-2015-4275-95ec-2ca139177989",
   "metadata": {
    "tags": []
   },
   "source": [
    "# Importing libraries"
   ]
  },
  {
   "cell_type": "code",
   "execution_count": 1,
   "id": "ae186853-0ed3-49c0-9037-442bc541a2be",
   "metadata": {},
   "outputs": [],
   "source": [
    "import pandas as pd\n",
    "import numpy as np\n",
    "import seaborn as sb\n",
    "from sklearn.decomposition import PCA"
   ]
  },
  {
   "cell_type": "markdown",
   "id": "4202b58f-72c0-4547-81a7-2dd033b379bb",
   "metadata": {},
   "source": [
    "# Loading data"
   ]
  },
  {
   "cell_type": "code",
   "execution_count": 30,
   "id": "ed22f631-a6a3-4d14-bb0b-720fc46cdf16",
   "metadata": {},
   "outputs": [
    {
     "name": "stderr",
     "output_type": "stream",
     "text": [
      "/var/folders/ht/m6m5h6fd397b_8w1c4km5bg40000gn/T/ipykernel_8415/1443193562.py:1: FutureWarning: In a future version of pandas all arguments of read_csv except for the argument 'filepath_or_buffer' will be keyword-only.\n",
      "  data_red_wine = pd.read_csv('https://raw.githubusercontent.com/AlexHappyCode/wine_quality_project_team_4/main/wine_quality_dataset/winequality-red.csv', ';')\n",
      "/var/folders/ht/m6m5h6fd397b_8w1c4km5bg40000gn/T/ipykernel_8415/1443193562.py:2: FutureWarning: In a future version of pandas all arguments of read_csv except for the argument 'filepath_or_buffer' will be keyword-only.\n",
      "  data_white_wine = pd.read_csv('https://raw.githubusercontent.com/AlexHappyCode/wine_quality_project_team_4/main/wine_quality_dataset/winequality-white.csv', ';')\n"
     ]
    }
   ],
   "source": [
    "data_red_wine = pd.read_csv('https://raw.githubusercontent.com/AlexHappyCode/wine_quality_project_team_4/main/wine_quality_dataset/winequality-red.csv', ';')\n",
    "data_white_wine = pd.read_csv('https://raw.githubusercontent.com/AlexHappyCode/wine_quality_project_team_4/main/wine_quality_dataset/winequality-white.csv', ';')\n",
    "both_frames = [data_red_wine, data_white_wine]"
   ]
  },
  {
   "cell_type": "markdown",
   "id": "af6e35ce-923f-4a1c-b728-189e106efb48",
   "metadata": {},
   "source": [
    "## Merging the datasets together"
   ]
  },
  {
   "cell_type": "code",
   "execution_count": 43,
   "id": "59a984b0-1335-4d85-9dc0-c0d73ad61ee4",
   "metadata": {},
   "outputs": [],
   "source": [
    "data_red_and_wine = pd.concat(both_frames, ignore_index=True)"
   ]
  },
  {
   "cell_type": "code",
   "execution_count": 29,
   "id": "63539813-84e8-4818-af56-8c6b14275043",
   "metadata": {},
   "outputs": [
    {
     "name": "stdout",
     "output_type": "stream",
     "text": [
      "(4898, 12)\n",
      "(1599, 12)\n",
      "(6497, 13)\n"
     ]
    }
   ],
   "source": [
    "print(data_white_wine.shape)\n",
    "print(data_red_wine.shape)\n",
    "print(data_red_and_wine.shape)"
   ]
  },
  {
   "cell_type": "markdown",
   "id": "84c09ec5-8712-4ddb-bf92-71230d49e717",
   "metadata": {},
   "source": [
    "# Binning the qualities\n",
    "The 'quality' feature in this data_red_and_wineframe is numerical value but we need to make a categorical variable out of it.\n",
    "\n",
    "Hence, we bin 1-3 as poor, 4-6 as good and 7-9 as excellent"
   ]
  },
  {
   "cell_type": "code",
   "execution_count": 42,
   "id": "609e91d1-f131-4a8d-9cd3-cfb92785e8d8",
   "metadata": {},
   "outputs": [
    {
     "data": {
      "text/html": [
       "<div>\n",
       "<style scoped>\n",
       "    .dataframe tbody tr th:only-of-type {\n",
       "        vertical-align: middle;\n",
       "    }\n",
       "\n",
       "    .dataframe tbody tr th {\n",
       "        vertical-align: top;\n",
       "    }\n",
       "\n",
       "    .dataframe thead th {\n",
       "        text-align: right;\n",
       "    }\n",
       "</style>\n",
       "<table border=\"1\" class=\"dataframe\">\n",
       "  <thead>\n",
       "    <tr style=\"text-align: right;\">\n",
       "      <th></th>\n",
       "      <th>fixed acidity</th>\n",
       "      <th>volatile acidity</th>\n",
       "      <th>citric acid</th>\n",
       "      <th>residual sugar</th>\n",
       "      <th>chlorides</th>\n",
       "      <th>free sulfur dioxide</th>\n",
       "      <th>total sulfur dioxide</th>\n",
       "      <th>density</th>\n",
       "      <th>pH</th>\n",
       "      <th>sulphates</th>\n",
       "      <th>alcohol</th>\n",
       "      <th>quality</th>\n",
       "      <th>label</th>\n",
       "    </tr>\n",
       "  </thead>\n",
       "  <tbody>\n",
       "    <tr>\n",
       "      <th>0</th>\n",
       "      <td>7.4</td>\n",
       "      <td>0.70</td>\n",
       "      <td>0.00</td>\n",
       "      <td>1.9</td>\n",
       "      <td>0.076</td>\n",
       "      <td>11.0</td>\n",
       "      <td>34.0</td>\n",
       "      <td>0.99780</td>\n",
       "      <td>3.51</td>\n",
       "      <td>0.56</td>\n",
       "      <td>9.4</td>\n",
       "      <td>5</td>\n",
       "      <td>NaN</td>\n",
       "    </tr>\n",
       "    <tr>\n",
       "      <th>1</th>\n",
       "      <td>7.8</td>\n",
       "      <td>0.88</td>\n",
       "      <td>0.00</td>\n",
       "      <td>2.6</td>\n",
       "      <td>0.098</td>\n",
       "      <td>25.0</td>\n",
       "      <td>67.0</td>\n",
       "      <td>0.99680</td>\n",
       "      <td>3.20</td>\n",
       "      <td>0.68</td>\n",
       "      <td>9.8</td>\n",
       "      <td>5</td>\n",
       "      <td>NaN</td>\n",
       "    </tr>\n",
       "    <tr>\n",
       "      <th>2</th>\n",
       "      <td>7.8</td>\n",
       "      <td>0.76</td>\n",
       "      <td>0.04</td>\n",
       "      <td>2.3</td>\n",
       "      <td>0.092</td>\n",
       "      <td>15.0</td>\n",
       "      <td>54.0</td>\n",
       "      <td>0.99700</td>\n",
       "      <td>3.26</td>\n",
       "      <td>0.65</td>\n",
       "      <td>9.8</td>\n",
       "      <td>5</td>\n",
       "      <td>NaN</td>\n",
       "    </tr>\n",
       "    <tr>\n",
       "      <th>3</th>\n",
       "      <td>11.2</td>\n",
       "      <td>0.28</td>\n",
       "      <td>0.56</td>\n",
       "      <td>1.9</td>\n",
       "      <td>0.075</td>\n",
       "      <td>17.0</td>\n",
       "      <td>60.0</td>\n",
       "      <td>0.99800</td>\n",
       "      <td>3.16</td>\n",
       "      <td>0.58</td>\n",
       "      <td>9.8</td>\n",
       "      <td>6</td>\n",
       "      <td>NaN</td>\n",
       "    </tr>\n",
       "    <tr>\n",
       "      <th>4</th>\n",
       "      <td>7.4</td>\n",
       "      <td>0.70</td>\n",
       "      <td>0.00</td>\n",
       "      <td>1.9</td>\n",
       "      <td>0.076</td>\n",
       "      <td>11.0</td>\n",
       "      <td>34.0</td>\n",
       "      <td>0.99780</td>\n",
       "      <td>3.51</td>\n",
       "      <td>0.56</td>\n",
       "      <td>9.4</td>\n",
       "      <td>5</td>\n",
       "      <td>NaN</td>\n",
       "    </tr>\n",
       "    <tr>\n",
       "      <th>...</th>\n",
       "      <td>...</td>\n",
       "      <td>...</td>\n",
       "      <td>...</td>\n",
       "      <td>...</td>\n",
       "      <td>...</td>\n",
       "      <td>...</td>\n",
       "      <td>...</td>\n",
       "      <td>...</td>\n",
       "      <td>...</td>\n",
       "      <td>...</td>\n",
       "      <td>...</td>\n",
       "      <td>...</td>\n",
       "      <td>...</td>\n",
       "    </tr>\n",
       "    <tr>\n",
       "      <th>4893</th>\n",
       "      <td>6.2</td>\n",
       "      <td>0.21</td>\n",
       "      <td>0.29</td>\n",
       "      <td>1.6</td>\n",
       "      <td>0.039</td>\n",
       "      <td>24.0</td>\n",
       "      <td>92.0</td>\n",
       "      <td>0.99114</td>\n",
       "      <td>3.27</td>\n",
       "      <td>0.50</td>\n",
       "      <td>11.2</td>\n",
       "      <td>6</td>\n",
       "      <td>NaN</td>\n",
       "    </tr>\n",
       "    <tr>\n",
       "      <th>4894</th>\n",
       "      <td>6.6</td>\n",
       "      <td>0.32</td>\n",
       "      <td>0.36</td>\n",
       "      <td>8.0</td>\n",
       "      <td>0.047</td>\n",
       "      <td>57.0</td>\n",
       "      <td>168.0</td>\n",
       "      <td>0.99490</td>\n",
       "      <td>3.15</td>\n",
       "      <td>0.46</td>\n",
       "      <td>9.6</td>\n",
       "      <td>5</td>\n",
       "      <td>NaN</td>\n",
       "    </tr>\n",
       "    <tr>\n",
       "      <th>4895</th>\n",
       "      <td>6.5</td>\n",
       "      <td>0.24</td>\n",
       "      <td>0.19</td>\n",
       "      <td>1.2</td>\n",
       "      <td>0.041</td>\n",
       "      <td>30.0</td>\n",
       "      <td>111.0</td>\n",
       "      <td>0.99254</td>\n",
       "      <td>2.99</td>\n",
       "      <td>0.46</td>\n",
       "      <td>9.4</td>\n",
       "      <td>6</td>\n",
       "      <td>NaN</td>\n",
       "    </tr>\n",
       "    <tr>\n",
       "      <th>4896</th>\n",
       "      <td>5.5</td>\n",
       "      <td>0.29</td>\n",
       "      <td>0.30</td>\n",
       "      <td>1.1</td>\n",
       "      <td>0.022</td>\n",
       "      <td>20.0</td>\n",
       "      <td>110.0</td>\n",
       "      <td>0.98869</td>\n",
       "      <td>3.34</td>\n",
       "      <td>0.38</td>\n",
       "      <td>12.8</td>\n",
       "      <td>7</td>\n",
       "      <td>NaN</td>\n",
       "    </tr>\n",
       "    <tr>\n",
       "      <th>4897</th>\n",
       "      <td>6.0</td>\n",
       "      <td>0.21</td>\n",
       "      <td>0.38</td>\n",
       "      <td>0.8</td>\n",
       "      <td>0.020</td>\n",
       "      <td>22.0</td>\n",
       "      <td>98.0</td>\n",
       "      <td>0.98941</td>\n",
       "      <td>3.26</td>\n",
       "      <td>0.32</td>\n",
       "      <td>11.8</td>\n",
       "      <td>6</td>\n",
       "      <td>NaN</td>\n",
       "    </tr>\n",
       "  </tbody>\n",
       "</table>\n",
       "<p>6497 rows × 13 columns</p>\n",
       "</div>"
      ],
      "text/plain": [
       "      fixed acidity  volatile acidity  citric acid  residual sugar  chlorides  \\\n",
       "0               7.4              0.70         0.00             1.9      0.076   \n",
       "1               7.8              0.88         0.00             2.6      0.098   \n",
       "2               7.8              0.76         0.04             2.3      0.092   \n",
       "3              11.2              0.28         0.56             1.9      0.075   \n",
       "4               7.4              0.70         0.00             1.9      0.076   \n",
       "...             ...               ...          ...             ...        ...   \n",
       "4893            6.2              0.21         0.29             1.6      0.039   \n",
       "4894            6.6              0.32         0.36             8.0      0.047   \n",
       "4895            6.5              0.24         0.19             1.2      0.041   \n",
       "4896            5.5              0.29         0.30             1.1      0.022   \n",
       "4897            6.0              0.21         0.38             0.8      0.020   \n",
       "\n",
       "      free sulfur dioxide  total sulfur dioxide  density    pH  sulphates  \\\n",
       "0                    11.0                  34.0  0.99780  3.51       0.56   \n",
       "1                    25.0                  67.0  0.99680  3.20       0.68   \n",
       "2                    15.0                  54.0  0.99700  3.26       0.65   \n",
       "3                    17.0                  60.0  0.99800  3.16       0.58   \n",
       "4                    11.0                  34.0  0.99780  3.51       0.56   \n",
       "...                   ...                   ...      ...   ...        ...   \n",
       "4893                 24.0                  92.0  0.99114  3.27       0.50   \n",
       "4894                 57.0                 168.0  0.99490  3.15       0.46   \n",
       "4895                 30.0                 111.0  0.99254  2.99       0.46   \n",
       "4896                 20.0                 110.0  0.98869  3.34       0.38   \n",
       "4897                 22.0                  98.0  0.98941  3.26       0.32   \n",
       "\n",
       "      alcohol  quality  label  \n",
       "0         9.4        5    NaN  \n",
       "1         9.8        5    NaN  \n",
       "2         9.8        5    NaN  \n",
       "3         9.8        6    NaN  \n",
       "4         9.4        5    NaN  \n",
       "...       ...      ...    ...  \n",
       "4893     11.2        6    NaN  \n",
       "4894      9.6        5    NaN  \n",
       "4895      9.4        6    NaN  \n",
       "4896     12.8        7    NaN  \n",
       "4897     11.8        6    NaN  \n",
       "\n",
       "[6497 rows x 13 columns]"
      ]
     },
     "execution_count": 42,
     "metadata": {},
     "output_type": "execute_result"
    }
   ],
   "source": [
    "data_red_and_wine"
   ]
  },
  {
   "cell_type": "code",
   "execution_count": 25,
   "id": "740e5bce-f676-4c32-902a-621927146a1c",
   "metadata": {},
   "outputs": [
    {
     "data": {
      "text/plain": [
       "(6497, 13)"
      ]
     },
     "execution_count": 25,
     "metadata": {},
     "output_type": "execute_result"
    }
   ],
   "source": [
    "data_red_and_wine.shape"
   ]
  },
  {
   "cell_type": "code",
   "execution_count": 39,
   "id": "7122db5a-60ff-4a28-aff6-922874375b13",
   "metadata": {},
   "outputs": [
    {
     "data": {
      "text/plain": [
       "(6497, 13)"
      ]
     },
     "execution_count": 39,
     "metadata": {},
     "output_type": "execute_result"
    }
   ],
   "source": [
    "data_red_and_wine['label'] = np.nan\n",
    "data_red_and_wine['quality'].value_counts()\n",
    "data_red_and_wine['quality'][4897]\n",
    "data_red_and_wine.shape"
   ]
  },
  {
   "cell_type": "code",
   "execution_count": 17,
   "id": "b58a4a71-08fd-4687-81f5-3ff7eb5bf301",
   "metadata": {},
   "outputs": [
    {
     "ename": "KeyError",
     "evalue": "4898",
     "output_type": "error",
     "traceback": [
      "\u001b[0;31m---------------------------------------------------------------------------\u001b[0m",
      "\u001b[0;31mKeyError\u001b[0m                                  Traceback (most recent call last)",
      "File \u001b[0;32m/usr/local/lib/python3.10/site-packages/pandas/core/indexes/base.py:3629\u001b[0m, in \u001b[0;36mIndex.get_loc\u001b[0;34m(self, key, method, tolerance)\u001b[0m\n\u001b[1;32m   3628\u001b[0m \u001b[38;5;28;01mtry\u001b[39;00m:\n\u001b[0;32m-> 3629\u001b[0m     \u001b[38;5;28;01mreturn\u001b[39;00m \u001b[38;5;28;43mself\u001b[39;49m\u001b[38;5;241;43m.\u001b[39;49m\u001b[43m_engine\u001b[49m\u001b[38;5;241;43m.\u001b[39;49m\u001b[43mget_loc\u001b[49m\u001b[43m(\u001b[49m\u001b[43mcasted_key\u001b[49m\u001b[43m)\u001b[49m\n\u001b[1;32m   3630\u001b[0m \u001b[38;5;28;01mexcept\u001b[39;00m \u001b[38;5;167;01mKeyError\u001b[39;00m \u001b[38;5;28;01mas\u001b[39;00m err:\n",
      "File \u001b[0;32m/usr/local/lib/python3.10/site-packages/pandas/_libs/index.pyx:136\u001b[0m, in \u001b[0;36mpandas._libs.index.IndexEngine.get_loc\u001b[0;34m()\u001b[0m\n",
      "File \u001b[0;32m/usr/local/lib/python3.10/site-packages/pandas/_libs/index.pyx:160\u001b[0m, in \u001b[0;36mpandas._libs.index.IndexEngine.get_loc\u001b[0;34m()\u001b[0m\n",
      "File \u001b[0;32m/usr/local/lib/python3.10/site-packages/pandas/_libs/index.pyx:201\u001b[0m, in \u001b[0;36mpandas._libs.index.IndexEngine._get_loc_duplicates\u001b[0;34m()\u001b[0m\n",
      "File \u001b[0;32m/usr/local/lib/python3.10/site-packages/pandas/_libs/index.pyx:209\u001b[0m, in \u001b[0;36mpandas._libs.index.IndexEngine._maybe_get_bool_indexer\u001b[0;34m()\u001b[0m\n",
      "File \u001b[0;32m/usr/local/lib/python3.10/site-packages/pandas/_libs/index.pyx:107\u001b[0m, in \u001b[0;36mpandas._libs.index._unpack_bool_indexer\u001b[0;34m()\u001b[0m\n",
      "\u001b[0;31mKeyError\u001b[0m: 4898",
      "\nThe above exception was the direct cause of the following exception:\n",
      "\u001b[0;31mKeyError\u001b[0m                                  Traceback (most recent call last)",
      "Cell \u001b[0;32mIn [17], line 2\u001b[0m\n\u001b[1;32m      1\u001b[0m \u001b[38;5;28;01mfor\u001b[39;00m i \u001b[38;5;129;01min\u001b[39;00m \u001b[38;5;28mrange\u001b[39m(data_red_and_wine\u001b[38;5;241m.\u001b[39mshape[\u001b[38;5;241m0\u001b[39m]):\n\u001b[0;32m----> 2\u001b[0m     \u001b[43mdata_red_and_wine\u001b[49m\u001b[43m[\u001b[49m\u001b[38;5;124;43m'\u001b[39;49m\u001b[38;5;124;43mquality\u001b[39;49m\u001b[38;5;124;43m'\u001b[39;49m\u001b[43m]\u001b[49m\u001b[43m[\u001b[49m\u001b[43mi\u001b[49m\u001b[43m]\u001b[49m\n",
      "File \u001b[0;32m/usr/local/lib/python3.10/site-packages/pandas/core/series.py:958\u001b[0m, in \u001b[0;36mSeries.__getitem__\u001b[0;34m(self, key)\u001b[0m\n\u001b[1;32m    955\u001b[0m     \u001b[38;5;28;01mreturn\u001b[39;00m \u001b[38;5;28mself\u001b[39m\u001b[38;5;241m.\u001b[39m_values[key]\n\u001b[1;32m    957\u001b[0m \u001b[38;5;28;01melif\u001b[39;00m key_is_scalar:\n\u001b[0;32m--> 958\u001b[0m     \u001b[38;5;28;01mreturn\u001b[39;00m \u001b[38;5;28;43mself\u001b[39;49m\u001b[38;5;241;43m.\u001b[39;49m\u001b[43m_get_value\u001b[49m\u001b[43m(\u001b[49m\u001b[43mkey\u001b[49m\u001b[43m)\u001b[49m\n\u001b[1;32m    960\u001b[0m \u001b[38;5;28;01mif\u001b[39;00m is_hashable(key):\n\u001b[1;32m    961\u001b[0m     \u001b[38;5;66;03m# Otherwise index.get_value will raise InvalidIndexError\u001b[39;00m\n\u001b[1;32m    962\u001b[0m     \u001b[38;5;28;01mtry\u001b[39;00m:\n\u001b[1;32m    963\u001b[0m         \u001b[38;5;66;03m# For labels that don't resolve as scalars like tuples and frozensets\u001b[39;00m\n",
      "File \u001b[0;32m/usr/local/lib/python3.10/site-packages/pandas/core/series.py:1069\u001b[0m, in \u001b[0;36mSeries._get_value\u001b[0;34m(self, label, takeable)\u001b[0m\n\u001b[1;32m   1066\u001b[0m     \u001b[38;5;28;01mreturn\u001b[39;00m \u001b[38;5;28mself\u001b[39m\u001b[38;5;241m.\u001b[39m_values[label]\n\u001b[1;32m   1068\u001b[0m \u001b[38;5;66;03m# Similar to Index.get_value, but we do not fall back to positional\u001b[39;00m\n\u001b[0;32m-> 1069\u001b[0m loc \u001b[38;5;241m=\u001b[39m \u001b[38;5;28;43mself\u001b[39;49m\u001b[38;5;241;43m.\u001b[39;49m\u001b[43mindex\u001b[49m\u001b[38;5;241;43m.\u001b[39;49m\u001b[43mget_loc\u001b[49m\u001b[43m(\u001b[49m\u001b[43mlabel\u001b[49m\u001b[43m)\u001b[49m\n\u001b[1;32m   1070\u001b[0m \u001b[38;5;28;01mreturn\u001b[39;00m \u001b[38;5;28mself\u001b[39m\u001b[38;5;241m.\u001b[39mindex\u001b[38;5;241m.\u001b[39m_get_values_for_loc(\u001b[38;5;28mself\u001b[39m, loc, label)\n",
      "File \u001b[0;32m/usr/local/lib/python3.10/site-packages/pandas/core/indexes/base.py:3631\u001b[0m, in \u001b[0;36mIndex.get_loc\u001b[0;34m(self, key, method, tolerance)\u001b[0m\n\u001b[1;32m   3629\u001b[0m     \u001b[38;5;28;01mreturn\u001b[39;00m \u001b[38;5;28mself\u001b[39m\u001b[38;5;241m.\u001b[39m_engine\u001b[38;5;241m.\u001b[39mget_loc(casted_key)\n\u001b[1;32m   3630\u001b[0m \u001b[38;5;28;01mexcept\u001b[39;00m \u001b[38;5;167;01mKeyError\u001b[39;00m \u001b[38;5;28;01mas\u001b[39;00m err:\n\u001b[0;32m-> 3631\u001b[0m     \u001b[38;5;28;01mraise\u001b[39;00m \u001b[38;5;167;01mKeyError\u001b[39;00m(key) \u001b[38;5;28;01mfrom\u001b[39;00m \u001b[38;5;21;01merr\u001b[39;00m\n\u001b[1;32m   3632\u001b[0m \u001b[38;5;28;01mexcept\u001b[39;00m \u001b[38;5;167;01mTypeError\u001b[39;00m:\n\u001b[1;32m   3633\u001b[0m     \u001b[38;5;66;03m# If we have a listlike key, _check_indexing_error will raise\u001b[39;00m\n\u001b[1;32m   3634\u001b[0m     \u001b[38;5;66;03m#  InvalidIndexError. Otherwise we fall through and re-raise\u001b[39;00m\n\u001b[1;32m   3635\u001b[0m     \u001b[38;5;66;03m#  the TypeError.\u001b[39;00m\n\u001b[1;32m   3636\u001b[0m     \u001b[38;5;28mself\u001b[39m\u001b[38;5;241m.\u001b[39m_check_indexing_error(key)\n",
      "\u001b[0;31mKeyError\u001b[0m: 4898"
     ]
    }
   ],
   "source": [
    "for i in range(data_red_and_wine.shape[0]):\n",
    "    data_red_and_wine['quality'][i]"
   ]
  },
  {
   "cell_type": "code",
   "execution_count": 15,
   "id": "b2d610e0-5d99-4d99-883f-0bb747d35e54",
   "metadata": {},
   "outputs": [
    {
     "ename": "ValueError",
     "evalue": "The truth value of a Series is ambiguous. Use a.empty, a.bool(), a.item(), a.any() or a.all().",
     "output_type": "error",
     "traceback": [
      "\u001b[0;31m---------------------------------------------------------------------------\u001b[0m",
      "\u001b[0;31mValueError\u001b[0m                                Traceback (most recent call last)",
      "Cell \u001b[0;32mIn [15], line 2\u001b[0m\n\u001b[1;32m      1\u001b[0m \u001b[38;5;28;01mfor\u001b[39;00m i \u001b[38;5;129;01min\u001b[39;00m \u001b[38;5;28mrange\u001b[39m(\u001b[38;5;28mlen\u001b[39m(data_red_and_wine)):\n\u001b[0;32m----> 2\u001b[0m     \u001b[38;5;28;01mif\u001b[39;00m data_red_and_wine[\u001b[38;5;124m'\u001b[39m\u001b[38;5;124mquality\u001b[39m\u001b[38;5;124m'\u001b[39m][i] \u001b[38;5;241m<\u001b[39m \u001b[38;5;241m4\u001b[39m:\n\u001b[1;32m      3\u001b[0m         data_red_and_wine[\u001b[38;5;124m'\u001b[39m\u001b[38;5;124mlabel\u001b[39m\u001b[38;5;124m'\u001b[39m][i] \u001b[38;5;241m=\u001b[39m \u001b[38;5;124m'\u001b[39m\u001b[38;5;124mPoor\u001b[39m\u001b[38;5;124m'\u001b[39m\n\u001b[1;32m      4\u001b[0m     \u001b[38;5;28;01melif\u001b[39;00m data_red_and_wine[\u001b[38;5;124m'\u001b[39m\u001b[38;5;124mquality\u001b[39m\u001b[38;5;124m'\u001b[39m][i] \u001b[38;5;241m<\u001b[39m \u001b[38;5;241m7\u001b[39m \u001b[38;5;129;01mand\u001b[39;00m data_red_and_wine[\u001b[38;5;124m'\u001b[39m\u001b[38;5;124mquality\u001b[39m\u001b[38;5;124m'\u001b[39m][i] \u001b[38;5;241m>\u001b[39m \u001b[38;5;241m3\u001b[39m:\n",
      "File \u001b[0;32m/usr/local/lib/python3.10/site-packages/pandas/core/generic.py:1527\u001b[0m, in \u001b[0;36mNDFrame.__nonzero__\u001b[0;34m(self)\u001b[0m\n\u001b[1;32m   1525\u001b[0m \u001b[38;5;129m@final\u001b[39m\n\u001b[1;32m   1526\u001b[0m \u001b[38;5;28;01mdef\u001b[39;00m \u001b[38;5;21m__nonzero__\u001b[39m(\u001b[38;5;28mself\u001b[39m):\n\u001b[0;32m-> 1527\u001b[0m     \u001b[38;5;28;01mraise\u001b[39;00m \u001b[38;5;167;01mValueError\u001b[39;00m(\n\u001b[1;32m   1528\u001b[0m         \u001b[38;5;124mf\u001b[39m\u001b[38;5;124m\"\u001b[39m\u001b[38;5;124mThe truth value of a \u001b[39m\u001b[38;5;132;01m{\u001b[39;00m\u001b[38;5;28mtype\u001b[39m(\u001b[38;5;28mself\u001b[39m)\u001b[38;5;241m.\u001b[39m\u001b[38;5;18m__name__\u001b[39m\u001b[38;5;132;01m}\u001b[39;00m\u001b[38;5;124m is ambiguous. \u001b[39m\u001b[38;5;124m\"\u001b[39m\n\u001b[1;32m   1529\u001b[0m         \u001b[38;5;124m\"\u001b[39m\u001b[38;5;124mUse a.empty, a.bool(), a.item(), a.any() or a.all().\u001b[39m\u001b[38;5;124m\"\u001b[39m\n\u001b[1;32m   1530\u001b[0m     )\n",
      "\u001b[0;31mValueError\u001b[0m: The truth value of a Series is ambiguous. Use a.empty, a.bool(), a.item(), a.any() or a.all()."
     ]
    }
   ],
   "source": [
    "for i in range(len(data_red_and_wine)):\n",
    "    if data_red_and_wine['quality'][i] < 4:\n",
    "        data_red_and_wine['label'][i] = 'Poor'\n",
    "    elif data_red_and_wine['quality'][i] < 7 and data_red_and_wine['quality'][i] > 3:\n",
    "        data_red_and_wine['label'][i] = 'Good'\n",
    "    else:\n",
    "        data_red_and_wine['label'][i] = 'Excellent'"
   ]
  },
  {
   "cell_type": "code",
   "execution_count": null,
   "id": "8a9d5e9e-065b-45c3-bf20-2316d6749660",
   "metadata": {},
   "outputs": [],
   "source": [
    "y = data_red_and_wine['label']\n",
    "X = data_red_and_wine.drop(['label'], axis=1)\n",
    "y.value_counts()"
   ]
  },
  {
   "cell_type": "markdown",
   "id": "5f36917b-bb1d-4ddf-be58-1f21941a668b",
   "metadata": {},
   "source": [
    "# Correlation\n",
    "Correlation among variables denotes how variables behave with respect to each other."
   ]
  },
  {
   "cell_type": "code",
   "execution_count": null,
   "id": "8e2d8069-ea7a-4074-9dae-bea93703f1cd",
   "metadata": {},
   "outputs": [],
   "source": [
    "dataplot = sb.heatmap(X.corr(), cmap=\"YlGnBu\", annot=True)\n"
   ]
  },
  {
   "cell_type": "markdown",
   "id": "baed9591-60ff-4808-bdfb-f11c1ca61a81",
   "metadata": {},
   "source": [
    "# Principle Component Analysis\n",
    "Since we saw that there was correlation observed among a lot of variables in the data, we can say that not all variables might be necessary to cover the distribution of data.\n",
    "\n",
    "Principle Component Analysis involves reducing the dimensions of a database while minimizing the information loss.\n",
    "For detailed technical explanation\n",
    "https://scikit-learn.org/stable/modules/generated/sklearn.decomposition.PCA.html\n",
    "\n",
    "https://wires.onlinelibrary.wiley.com/doi/abs/10.1002/wics.101\n",
    "\n",
    "https://www.youtube.com/watch?v=HMOI_lkzW08"
   ]
  },
  {
   "cell_type": "code",
   "execution_count": null,
   "id": "8d716717-9db3-4b57-9938-7f777aa74878",
   "metadata": {},
   "outputs": [],
   "source": [
    "X_pca = X\n",
    "\n",
    "pca = PCA(n_components=7)\n",
    "pca.fit(X_pca)"
   ]
  },
  {
   "cell_type": "markdown",
   "id": "15f9ea8f-09a4-437f-9e05-b4c6cd99d24e",
   "metadata": {},
   "source": [
    "# Explanation on \"n_components\"\n",
    "\n",
    "This variable means the number of dimensions we want of the data at the end of PCA.\n",
    "\n",
    "This parameter of PCA function is manually tunable. It means that it is not necessary that any one specific value is \"best\".\n",
    "\n",
    "The more is n_components, the less will be the loss of information. Our goal should be to minimize the dimensions while also trying to minimize the information loss. This is a tradeoff, which we will better understand after this data is used to fit a model. Here, I have only arbitrarily set the value to 7. Hence the resulting data will be of 7 dimensions instead of the original 11"
   ]
  },
  {
   "cell_type": "code",
   "execution_count": null,
   "id": "35769912-b20d-458e-a3b5-f77869201962",
   "metadata": {},
   "outputs": [],
   "source": [
    "pca.components_"
   ]
  },
  {
   "cell_type": "code",
   "execution_count": null,
   "id": "21091377-4022-4c4a-a98b-fdedd7989936",
   "metadata": {},
   "outputs": [],
   "source": []
  },
  {
   "cell_type": "markdown",
   "id": "f779e6cd-c8c4-4723-bb04-8ed18d06de47",
   "metadata": {},
   "source": [
    "### Alexander Pena"
   ]
  },
  {
   "cell_type": "markdown",
   "id": "65d77d59-cdfd-480f-ba1e-21a1a4306334",
   "metadata": {},
   "source": [
    "# Library imports"
   ]
  },
  {
   "cell_type": "code",
   "execution_count": null,
   "id": "4c105cf3-18af-4f90-9a74-a7f8202aa7f1",
   "metadata": {
    "tags": []
   },
   "outputs": [],
   "source": [
    "import os\n",
    "import warnings\n",
    "from IPython import display\n",
    "import yfinance as yf\n",
    "import datetime as dt\n",
    "import pandas as pd\n",
    "import numpy as np\n",
    "from numpy import arange\n",
    "import matplotlib.pyplot as plt\n",
    "from pandas import read_csv\n",
    "from sklearn import metrics\n",
    "from sklearn.model_selection import train_test_split\n",
    "from sklearn.ensemble import RandomForestClassifier\n",
    "from sklearn.preprocessing import StandardScaler\n",
    "from sklearn.model_selection import GridSearchCV\n",
    "from sklearn.metrics import accuracy_score\n",
    "from sklearn.metrics import confusion_matrix, plot_confusion_matrix\n",
    "from sklearn.metrics import ConfusionMatrixDisplay\n",
    "from sklearn.metrics import f1_score \n",
    "from sklearn.metrics import precision_recall_fscore_support\n",
    "from sklearn.metrics import r2_score\n",
    "from sklearn.inspection import permutation_importance"
   ]
  },
  {
   "cell_type": "markdown",
   "id": "071b67b5-7510-41aa-92c9-83bc79d07e9e",
   "metadata": {},
   "source": [
    "# Dataset Characteristics\n",
    "\n",
    "All the samples in the dataset are numeric"
   ]
  },
  {
   "cell_type": "markdown",
   "id": "cf1aae36-063e-45f5-ad8f-2c1bd5f5cf5b",
   "metadata": {},
   "source": [
    "### Number of samples "
   ]
  },
  {
   "cell_type": "code",
   "execution_count": null,
   "id": "abfc7d15-d88d-4238-b931-c9579963336f",
   "metadata": {},
   "outputs": [],
   "source": [
    "print('Number of samples:', df.shape[0])"
   ]
  },
  {
   "cell_type": "markdown",
   "id": "c9d7a02e-3461-4485-a526-fc72df21f5e8",
   "metadata": {},
   "source": [
    "### Classification Split"
   ]
  },
  {
   "cell_type": "code",
   "execution_count": null,
   "id": "085bd93f-0300-48f8-8b45-28a1ee137ea0",
   "metadata": {},
   "outputs": [],
   "source": [
    "print('Number of 0 labels: ', len(df[df.Label==0]))\n",
    "print('Number of 1 labels: ', len(df[df.Label==1]))"
   ]
  },
  {
   "cell_type": "markdown",
   "id": "8b49749a-9be2-421e-bb4e-a445fa2fa303",
   "metadata": {},
   "source": [
    "### Datatype"
   ]
  },
  {
   "cell_type": "markdown",
   "id": "50001ee7-457f-4c2d-8ac5-2af8f5861dee",
   "metadata": {},
   "source": [
    "### Range of Data"
   ]
  },
  {
   "cell_type": "code",
   "execution_count": null,
   "id": "4c9417ce-b566-4e66-ac7f-f9fe5e09e08d",
   "metadata": {},
   "outputs": [],
   "source": [
    "print('Biggest value in the dataset:', df.min().min())\n",
    "print('Biggest value in the dataset:', df.max().max())\n",
    "print('Mean of all the means:', df.mean().mean())\n",
    "print('Standard Deviation of all the standard deviations:', df.std().std())"
   ]
  },
  {
   "cell_type": "markdown",
   "id": "3e3a6527-2464-4392-81a2-56ba13e930f9",
   "metadata": {},
   "source": [
    "### How many values are just zeros?"
   ]
  },
  {
   "cell_type": "code",
   "execution_count": null,
   "id": "961fccc1-ff38-4e04-af56-03932ae8d5f7",
   "metadata": {},
   "outputs": [],
   "source": [
    "vals = []\n",
    "for index, row in df.iterrows():\n",
    "    vals.append(row[row == 0].value_counts()[0])\n",
    "num_zeroes = pd.Series(vals)\n",
    "print('Mean number of zeroes between features:', num_zeroes.mean())\n",
    "print('Standard Deviation of the number of zeroes between features:', num_zeroes.std())"
   ]
  },
  {
   "cell_type": "markdown",
   "id": "57aeb650-49f6-44d8-91a7-4caa77665643",
   "metadata": {},
   "source": [
    "# splitting data into features and labels\n",
    "### Dropping the labels for our feature matrix"
   ]
  },
  {
   "cell_type": "code",
   "execution_count": null,
   "id": "38b7ab3a-6624-4351-86e5-fd0f441ecf8b",
   "metadata": {},
   "outputs": [],
   "source": [
    "y = df.iloc[:, df.shape[1] - 1].values\n",
    "x = df.drop(['Label'], axis=1)"
   ]
  },
  {
   "cell_type": "markdown",
   "id": "42ba1d57-39fe-4dbd-a9f1-ed300684a37e",
   "metadata": {
    "tags": []
   },
   "source": [
    "# Split the data into trainning set and testing set\n",
    "### Supervised Learning"
   ]
  },
  {
   "cell_type": "code",
   "execution_count": null,
   "id": "c623b93b-0703-4fc0-ada7-b0ee62fd455d",
   "metadata": {},
   "outputs": [],
   "source": [
    "x_train, x_test, y_train, y_test = train_test_split(\n",
    "    x,\n",
    "    y,\n",
    "    test_size=0.25,\n",
    "    #random_state=0\n",
    "    shuffle=True\n",
    ")"
   ]
  },
  {
   "cell_type": "markdown",
   "id": "b2c8b87e-a939-4dbf-ba5d-e2d4971f6db4",
   "metadata": {},
   "source": [
    "# Creating the Random Forest Classifier"
   ]
  },
  {
   "cell_type": "code",
   "execution_count": null,
   "id": "6c2de1a9-7d0f-4f1b-9dca-d796126121cf",
   "metadata": {},
   "outputs": [],
   "source": [
    "model = RandomForestClassifier (\n",
    "    n_estimators=500, # ntree\n",
    "    max_features=6, # mtry\n",
    "    bootstrap=True, # yes\n",
    "    random_state=42, # for testing\n",
    "    oob_score=True # need oob score\n",
    ")"
   ]
  },
  {
   "cell_type": "markdown",
   "id": "f4d8e477-0981-4da1-bacb-f577fe1ac91c",
   "metadata": {},
   "source": [
    "# Hyperparameter tuning\n",
    "\n",
    "The hyperparameters in the random forest model are either used to increase the predictive power of the model or to make the model faster. "
   ]
  },
  {
   "cell_type": "markdown",
   "id": "18762f7b-6978-432d-b623-00b9dff73c81",
   "metadata": {},
   "source": [
    "# Cross Validation"
   ]
  },
  {
   "cell_type": "markdown",
   "id": "21119800-bba1-4ab7-b021-297ae15929af",
   "metadata": {
    "tags": []
   },
   "source": [
    "| n_estimators      | number of trees in the forest \n",
    "|-------------------|:------------------------------\n",
    "| max_depth         | maximum depth in a tree\n",
    "| min_samples_split | minimum number of samples to allow a split in an internal node\n",
    "| min_samples_leaf  | specifies the minimum number of samples required to be at a leaf node\n",
    "| bootstrap         |Bootstrap=True (default): samples are drawn with replacement Bootstrap=False : samples are drawn without replacement\n",
    "| random_state  | generated random numbers for the random forest."
   ]
  },
  {
   "cell_type": "code",
   "execution_count": null,
   "id": "43414ac0-f269-4c2e-a59b-97618a6c8963",
   "metadata": {},
   "outputs": [],
   "source": [
    "grid_ranges = {\n",
    "    'n_estimators': [500, 1000],\n",
    "    'max_features': np.arange(1, 5, 1),\n",
    "    'bootstrap': [True],\n",
    "    #'random_state': [1, 2, 30, 42],\n",
    "}\n",
    "gscv = GridSearchCV(\n",
    "    estimator=model,\n",
    "    param_grid=grid_ranges,\n",
    "    cv=3,\n",
    "    n_jobs=-1,\n",
    "    verbose=1,\n",
    ")\n",
    "gscv_fit = gscv.fit(x_train, y_train)\n",
    "best_parameters = gscv_fit.best_params_\n",
    "print(best_parameters)"
   ]
  },
  {
   "cell_type": "markdown",
   "id": "77032e33-c519-4983-a91b-ea2a17d36642",
   "metadata": {},
   "source": [
    "# Recreate the Random Forest Model with the best found hyperparameters"
   ]
  },
  {
   "cell_type": "code",
   "execution_count": null,
   "id": "e9ca56d1-850a-49be-bb05-4e39b2b7d330",
   "metadata": {},
   "outputs": [],
   "source": [
    "model = RandomForestClassifier(\n",
    "    n_estimators=best_parameters['n_estimators'],\n",
    "    max_features=best_parameters['max_features'],\n",
    "    bootstrap=best_parameters['bootstrap'],\n",
    "    oob_score=True\n",
    ")\n",
    "model.fit(x_train, y_train)"
   ]
  },
  {
   "cell_type": "markdown",
   "id": "b1b1291e-5d32-4433-a85c-961699307e13",
   "metadata": {},
   "source": [
    "# Now running the model on the test data"
   ]
  },
  {
   "cell_type": "markdown",
   "id": "de0c6cc2-a80e-4aa1-9e9b-de933341269b",
   "metadata": {},
   "source": [
    "### Running model on entire testing data"
   ]
  },
  {
   "cell_type": "code",
   "execution_count": null,
   "id": "68bdbee3-b83c-47a7-aa26-1bf6bfee81e0",
   "metadata": {},
   "outputs": [],
   "source": [
    "predict = model.predict(x_test)"
   ]
  },
  {
   "cell_type": "markdown",
   "id": "0fdc9ce6-701e-4f28-9f65-225e0c94f4e4",
   "metadata": {},
   "source": [
    "### Taking a single positive and negative sample"
   ]
  },
  {
   "cell_type": "markdown",
   "id": "6591be62-8197-4dac-8178-e9f9f5a709dd",
   "metadata": {},
   "source": [
    "#### Negative Sample"
   ]
  },
  {
   "cell_type": "code",
   "execution_count": null,
   "id": "2da12f9d-e240-4002-b39e-6b143fe2e7f2",
   "metadata": {},
   "outputs": [],
   "source": [
    "index = 0 # index of sample to predict\n",
    "single_sample = [x_test.iloc[index].to_numpy()]\n"
   ]
  },
  {
   "cell_type": "code",
   "execution_count": null,
   "id": "f59ebe00-bc6d-4790-8d8c-f9612939a8c2",
   "metadata": {},
   "outputs": [],
   "source": [
    "%%time\n",
    "with warnings.catch_warnings(record=True):\n",
    "    single_predict = model.predict(single_sample)"
   ]
  },
  {
   "cell_type": "code",
   "execution_count": null,
   "id": "c0dac1e9-1c0c-4b25-bdee-d46d453933d9",
   "metadata": {},
   "outputs": [],
   "source": [
    "print('predicted:', single_predict[0], ' actual', y_test[index])"
   ]
  },
  {
   "cell_type": "markdown",
   "id": "68701045-f542-4029-8cb7-e9e3e0a28474",
   "metadata": {},
   "source": [
    "#### Positive Sample"
   ]
  },
  {
   "cell_type": "code",
   "execution_count": null,
   "id": "ebb1ffd3-2bfb-421c-9e0a-1684892686c1",
   "metadata": {},
   "outputs": [],
   "source": [
    "index = 1 # index of sample to predict\n",
    "single_sample = [x_test.iloc[index].to_numpy()]"
   ]
  },
  {
   "cell_type": "code",
   "execution_count": null,
   "id": "f96be63b-4a33-4d04-b614-71680a7bc982",
   "metadata": {},
   "outputs": [],
   "source": [
    "%%time\n",
    "with warnings.catch_warnings(record=True):\n",
    "    single_predict = model.predict(single_sample)"
   ]
  },
  {
   "cell_type": "code",
   "execution_count": null,
   "id": "9883b9d7-c7a9-4a1d-9d57-ecc3ecb3f791",
   "metadata": {},
   "outputs": [],
   "source": [
    "print('predicted:', single_predict[0], ' actual', y_test[index])"
   ]
  },
  {
   "cell_type": "code",
   "execution_count": null,
   "id": "7ec9c13a-bf63-4399-8f47-545d38b776c6",
   "metadata": {},
   "outputs": [],
   "source": [
    "#predict = model.predict(x_test.iloc[0])\n",
    "x_test.shape"
   ]
  },
  {
   "cell_type": "markdown",
   "id": "c492127d-5ff8-41d0-8a88-104088aaa995",
   "metadata": {},
   "source": [
    "# Cut Off\n",
    "- Change the cutoff from anyhwere to 0 and 1\n",
    "- The model should be already trained and is the variable 'model'\n",
    "- The default value is 0.5"
   ]
  },
  {
   "cell_type": "code",
   "execution_count": null,
   "id": "4f71d02d-922d-4c12-92b2-2ef34c406742",
   "metadata": {},
   "outputs": [],
   "source": [
    "cutoff = 0.5\n",
    "y_pred_threshold = (model.predict_proba(x_test)[:, 1] > cutoff).astype('float')\n",
    "\n",
    "# Confusion Matrix of the results with change in cutoff\n",
    "confusion_matrix(y_test, y_pred_threshold)"
   ]
  },
  {
   "cell_type": "code",
   "execution_count": null,
   "id": "3b26940b-730d-459b-b8a9-e09a3c9d54db",
   "metadata": {},
   "outputs": [],
   "source": [
    "model.predict_proba(x_test)[0:10] # proportion of votes for each sample"
   ]
  },
  {
   "cell_type": "markdown",
   "id": "e2bc9780-c9f0-42e3-a2e0-54281863f6f8",
   "metadata": {
    "tags": []
   },
   "source": [
    "# Metrics"
   ]
  },
  {
   "cell_type": "markdown",
   "id": "e1f30213-34d1-478b-9e94-082eac55ac78",
   "metadata": {
    "tags": []
   },
   "source": [
    "### Confusion Matrix"
   ]
  },
  {
   "cell_type": "code",
   "execution_count": null,
   "id": "66d5626e-d0d5-4b73-844d-b8a15261b9b9",
   "metadata": {},
   "outputs": [],
   "source": [
    "cm = confusion_matrix(y_test, predict, labels=model.classes_)\n",
    "disp = ConfusionMatrixDisplay(confusion_matrix=cm, display_labels=model.classes_)\n",
    "disp.plot()"
   ]
  },
  {
   "cell_type": "markdown",
   "id": "263fb140-0b90-4d9a-971e-03e4e0110f98",
   "metadata": {
    "tags": []
   },
   "source": [
    "### Accuracy"
   ]
  },
  {
   "cell_type": "code",
   "execution_count": null,
   "id": "50f7c6bf-ef65-4c1d-a2cd-7ed7da8a34bb",
   "metadata": {},
   "outputs": [],
   "source": [
    "ac = accuracy_score(predict, y_test)\n",
    "print('Accuracy is:', ac)"
   ]
  },
  {
   "cell_type": "markdown",
   "id": "6da0bd89-e34f-495b-9f16-6f0d46fdeefa",
   "metadata": {},
   "source": [
    "### Classification\n",
    "\n",
    "Report, precision, recall, f1-score, support, accuracy"
   ]
  },
  {
   "cell_type": "code",
   "execution_count": null,
   "id": "bd47d296-16b2-4394-ba20-3588b39c76ab",
   "metadata": {},
   "outputs": [],
   "source": [
    "from sklearn.metrics import classification_report\n",
    "labels = ['class 0', 'class 1']\n",
    "print(classification_report(y_test, predict, target_names=labels))"
   ]
  },
  {
   "cell_type": "markdown",
   "id": "ae83ae82-2b18-4364-9c58-b79f2bc59d4b",
   "metadata": {},
   "source": [
    "### The out of bag error, OOB"
   ]
  },
  {
   "cell_type": "code",
   "execution_count": null,
   "id": "41b9d207-2802-4f92-9e62-6f4c51af5299",
   "metadata": {},
   "outputs": [],
   "source": [
    "print('The out of bag error is', model.oob_score_)"
   ]
  },
  {
   "cell_type": "markdown",
   "id": "9c0799c1-cf6d-4a0f-bd83-26b6cc50cc93",
   "metadata": {},
   "source": [
    "### Feature Ranking"
   ]
  },
  {
   "cell_type": "code",
   "execution_count": null,
   "id": "a310d225-83c4-42ea-b51b-9b47c8f99f17",
   "metadata": {},
   "outputs": [],
   "source": [
    "''' First extracting feature rankings and standardizing '''\n",
    "# Get importances\n",
    "importances = model.feature_importances_\n",
    "# Standardize Importances\n",
    "std = np.std([tree.feature_importances_ for tree in model.estimators_], axis=0)\n",
    "feature_names = list(x_train.columns)\n",
    "features_dict = {key: val for key, val in zip(feature_names, std)}\n",
    "feature_rankings = {k: v for k, v in sorted(features_dict.items(), key=lambda item: item[1], reverse=True)}\n",
    "feature_rankings_list = list(feature_rankings.items())"
   ]
  },
  {
   "cell_type": "code",
   "execution_count": null,
   "id": "31dead64-cda5-4a96-97e3-64878eb07e88",
   "metadata": {},
   "outputs": [],
   "source": [
    "import matplotlib.pyplot as plt\n",
    "\n",
    "# number of features to compare\n",
    "\n",
    "n = 10\n",
    "target_features = feature_rankings_list[:n]\n",
    "feature_names = [tup[0] for tup in target_features]\n",
    "feature_values = [tup[1] for tup in target_features]\n",
    "\n",
    "fig = plt.figure(figsize = (10, 5))\n",
    "\n",
    "plt.xticks(rotation=45, ha='right')\n",
    "\n",
    "# creating the bar plot\n",
    "plt.bar(feature_names, feature_values, color ='maroon',\n",
    "        width = 0.4)\n",
    "\n",
    "plt.xlabel('Feature')\n",
    "plt.ylabel('Rank Normalized [0, 1]')\n",
    "plt.title(f'Feature Ranking first {n}')\n",
    "\n",
    "plt.show()\n",
    "           "
   ]
  },
  {
   "cell_type": "code",
   "execution_count": null,
   "id": "24974cec-458c-4397-b133-6a1f8c546fde",
   "metadata": {},
   "outputs": [],
   "source": [
    "import matplotlib.pyplot as plt\n",
    "\n",
    "# number of features to compare\n",
    "\n",
    "n = 50\n",
    "target_features = feature_rankings_list[:n]\n",
    "feature_names = [tup[0] for tup in target_features]\n",
    "feature_values = [tup[1] for tup in target_features]\n",
    "\n",
    "fig = plt.figure(figsize = (10, 5))\n",
    "\n",
    "plt.xticks(rotation=45, ha='right')\n",
    "\n",
    "# creating the bar plot\n",
    "plt.bar(feature_names, feature_values, color ='maroon',\n",
    "        width = 0.4)\n",
    "\n",
    "plt.xlabel('Feature')\n",
    "plt.ylabel('Rank Normalized [0, 1]')\n",
    "plt.title(f'Feature Ranking first {n}')\n",
    "\n",
    "plt.show()\n",
    "           "
   ]
  }
 ],
 "metadata": {
  "kernelspec": {
   "display_name": "Python 3 (ipykernel)",
   "language": "python",
   "name": "python3"
  },
  "language_info": {
   "codemirror_mode": {
    "name": "ipython",
    "version": 3
   },
   "file_extension": ".py",
   "mimetype": "text/x-python",
   "name": "python",
   "nbconvert_exporter": "python",
   "pygments_lexer": "ipython3",
   "version": "3.10.7"
  }
 },
 "nbformat": 4,
 "nbformat_minor": 5
}
